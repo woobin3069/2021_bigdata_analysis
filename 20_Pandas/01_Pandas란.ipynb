{
 "cells": [
  {
   "cell_type": "markdown",
   "id": "1c8edd28",
   "metadata": {},
   "source": [
    "# 1. Pandas란?\n",
    "\n",
    "* Pandas는 파이썬을 활용한 데이터분석용 라이브러리이다.\n",
    "* numpy를 기반으로 만들어지고, 효율적인 데이터구조를 제공함\n",
    "* 1차원 배열 형태: Series, 2차원 배열 형태: DataFrame\n",
    "* https://pandas.pydata.org/\n",
    "* Pandas Cheat Sheet"
   ]
  },
  {
   "cell_type": "code",
   "execution_count": 1,
   "id": "646b60d2",
   "metadata": {},
   "outputs": [],
   "source": [
    "import pandas as pd"
   ]
  },
  {
   "cell_type": "code",
   "execution_count": 2,
   "id": "ed43c2cb",
   "metadata": {},
   "outputs": [
    {
     "data": {
      "text/plain": [
       "'1.2.3'"
      ]
     },
     "execution_count": 2,
     "metadata": {},
     "output_type": "execute_result"
    }
   ],
   "source": [
    "pd.__version__"
   ]
  },
  {
   "cell_type": "code",
   "execution_count": null,
   "id": "b776fdd1",
   "metadata": {},
   "outputs": [],
   "source": []
  }
 ],
 "metadata": {
  "kernelspec": {
   "display_name": "Python 3",
   "language": "python",
   "name": "python3"
  },
  "language_info": {
   "codemirror_mode": {
    "name": "ipython",
    "version": 3
   },
   "file_extension": ".py",
   "mimetype": "text/x-python",
   "name": "python",
   "nbconvert_exporter": "python",
   "pygments_lexer": "ipython3",
   "version": "3.8.5"
  }
 },
 "nbformat": 4,
 "nbformat_minor": 5
}

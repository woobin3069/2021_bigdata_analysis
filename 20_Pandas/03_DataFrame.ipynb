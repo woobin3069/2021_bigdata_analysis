{
 "cells": [
  {
   "cell_type": "markdown",
   "id": "3695ce6d",
   "metadata": {},
   "source": [
    "# 3. DataFame"
   ]
  },
  {
   "cell_type": "markdown",
   "id": "fe072deb",
   "metadata": {},
   "source": [
    "## 3-1. DataFrame 생성하기\n",
    "* 2차원 행렬데이터에 행인덱스, 열인덱스가 붙은 것 (엑셀 Sheet 유사)\n",
    "* DataFrame = 2차원 배열의 값(value) + 행 인덱스 (row index) + 열 인덱스 (column index)\n",
    "* NumPy의 2차원 배열은 동일한 자료형을 가지지만 DataFrame은 열마다 자료형이 다를 수 있음"
   ]
  },
  {
   "cell_type": "code",
   "execution_count": 1,
   "id": "37a07686",
   "metadata": {},
   "outputs": [],
   "source": [
    "import pandas as pd\n",
    "import numpy as np"
   ]
  },
  {
   "cell_type": "code",
   "execution_count": 2,
   "id": "d131aaeb",
   "metadata": {},
   "outputs": [
    {
     "data": {
      "text/html": [
       "<div>\n",
       "<style scoped>\n",
       "    .dataframe tbody tr th:only-of-type {\n",
       "        vertical-align: middle;\n",
       "    }\n",
       "\n",
       "    .dataframe tbody tr th {\n",
       "        vertical-align: top;\n",
       "    }\n",
       "\n",
       "    .dataframe thead th {\n",
       "        text-align: right;\n",
       "    }\n",
       "</style>\n",
       "<table border=\"1\" class=\"dataframe\">\n",
       "  <thead>\n",
       "    <tr style=\"text-align: right;\">\n",
       "      <th></th>\n",
       "      <th>0</th>\n",
       "      <th>1</th>\n",
       "      <th>2</th>\n",
       "    </tr>\n",
       "  </thead>\n",
       "  <tbody>\n",
       "    <tr>\n",
       "      <th>0</th>\n",
       "      <td>삼성</td>\n",
       "      <td>2000</td>\n",
       "      <td>스마트폰</td>\n",
       "    </tr>\n",
       "    <tr>\n",
       "      <th>1</th>\n",
       "      <td>현대</td>\n",
       "      <td>1000</td>\n",
       "      <td>자동차</td>\n",
       "    </tr>\n",
       "    <tr>\n",
       "      <th>2</th>\n",
       "      <td>네이버</td>\n",
       "      <td>500</td>\n",
       "      <td>포털</td>\n",
       "    </tr>\n",
       "  </tbody>\n",
       "</table>\n",
       "</div>"
      ],
      "text/plain": [
       "     0     1     2\n",
       "0   삼성  2000  스마트폰\n",
       "1   현대  1000   자동차\n",
       "2  네이버   500    포털"
      ]
     },
     "execution_count": 2,
     "metadata": {},
     "output_type": "execute_result"
    }
   ],
   "source": [
    "# 1. value값만 주기\n",
    "data = [['삼성', 2000, '스마트폰'],\n",
    "        ['현대', 1000, '자동차'],\n",
    "        ['네이버', 500, '포털']]\n",
    "d = pd.DataFrame(data)\n",
    "d"
   ]
  },
  {
   "cell_type": "code",
   "execution_count": 3,
   "id": "916eb5c5",
   "metadata": {},
   "outputs": [
    {
     "data": {
      "text/plain": [
       "pandas.core.frame.DataFrame"
      ]
     },
     "execution_count": 3,
     "metadata": {},
     "output_type": "execute_result"
    }
   ],
   "source": [
    "type(d)"
   ]
  },
  {
   "cell_type": "code",
   "execution_count": 4,
   "id": "33b8465a",
   "metadata": {},
   "outputs": [
    {
     "data": {
      "text/plain": [
       "(3, 3)"
      ]
     },
     "execution_count": 4,
     "metadata": {},
     "output_type": "execute_result"
    }
   ],
   "source": [
    "d.shape"
   ]
  },
  {
   "cell_type": "code",
   "execution_count": 5,
   "id": "cba9cddf",
   "metadata": {},
   "outputs": [
    {
     "data": {
      "text/plain": [
       "RangeIndex(start=0, stop=3, step=1)"
      ]
     },
     "execution_count": 5,
     "metadata": {},
     "output_type": "execute_result"
    }
   ],
   "source": [
    "# 행 index\n",
    "d.index"
   ]
  },
  {
   "cell_type": "code",
   "execution_count": 6,
   "id": "683b4d4e",
   "metadata": {},
   "outputs": [
    {
     "data": {
      "text/plain": [
       "RangeIndex(start=0, stop=3, step=1)"
      ]
     },
     "execution_count": 6,
     "metadata": {},
     "output_type": "execute_result"
    }
   ],
   "source": [
    "# 열 index\n",
    "d.columns"
   ]
  },
  {
   "cell_type": "code",
   "execution_count": 7,
   "id": "c00af06d",
   "metadata": {},
   "outputs": [
    {
     "data": {
      "text/plain": [
       "array([['삼성', 2000, '스마트폰'],\n",
       "       ['현대', 1000, '자동차'],\n",
       "       ['네이버', 500, '포털']], dtype=object)"
      ]
     },
     "execution_count": 7,
     "metadata": {},
     "output_type": "execute_result"
    }
   ],
   "source": [
    "# value\n",
    "d.values"
   ]
  },
  {
   "cell_type": "code",
   "execution_count": 8,
   "id": "20d53680",
   "metadata": {},
   "outputs": [
    {
     "data": {
      "text/plain": [
       "('삼성', 2000)"
      ]
     },
     "execution_count": 8,
     "metadata": {},
     "output_type": "execute_result"
    }
   ],
   "source": [
    "d.values[0, 0], d.values[0, 1]"
   ]
  },
  {
   "cell_type": "code",
   "execution_count": 9,
   "id": "764946ca",
   "metadata": {},
   "outputs": [
    {
     "data": {
      "text/plain": [
       "(str, int)"
      ]
     },
     "execution_count": 9,
     "metadata": {},
     "output_type": "execute_result"
    }
   ],
   "source": [
    "type(d.values[0, 0]), type(d.values[0, 1])"
   ]
  },
  {
   "cell_type": "code",
   "execution_count": 10,
   "id": "dc25fdc6",
   "metadata": {},
   "outputs": [
    {
     "data": {
      "text/html": [
       "<div>\n",
       "<style scoped>\n",
       "    .dataframe tbody tr th:only-of-type {\n",
       "        vertical-align: middle;\n",
       "    }\n",
       "\n",
       "    .dataframe tbody tr th {\n",
       "        vertical-align: top;\n",
       "    }\n",
       "\n",
       "    .dataframe thead th {\n",
       "        text-align: right;\n",
       "    }\n",
       "</style>\n",
       "<table border=\"1\" class=\"dataframe\">\n",
       "  <thead>\n",
       "    <tr style=\"text-align: right;\">\n",
       "      <th></th>\n",
       "      <th>0</th>\n",
       "      <th>1</th>\n",
       "      <th>2</th>\n",
       "    </tr>\n",
       "  </thead>\n",
       "  <tbody>\n",
       "    <tr>\n",
       "      <th>0</th>\n",
       "      <td>삼성</td>\n",
       "      <td>2000</td>\n",
       "      <td>스마트폰</td>\n",
       "    </tr>\n",
       "    <tr>\n",
       "      <th>1</th>\n",
       "      <td>현대</td>\n",
       "      <td>1000</td>\n",
       "      <td>자동차</td>\n",
       "    </tr>\n",
       "  </tbody>\n",
       "</table>\n",
       "</div>"
      ],
      "text/plain": [
       "    0     1     2\n",
       "0  삼성  2000  스마트폰\n",
       "1  현대  1000   자동차"
      ]
     },
     "execution_count": 10,
     "metadata": {},
     "output_type": "execute_result"
    }
   ],
   "source": [
    "d.head(2)"
   ]
  },
  {
   "cell_type": "code",
   "execution_count": 11,
   "id": "4ac34955",
   "metadata": {},
   "outputs": [
    {
     "data": {
      "text/html": [
       "<div>\n",
       "<style scoped>\n",
       "    .dataframe tbody tr th:only-of-type {\n",
       "        vertical-align: middle;\n",
       "    }\n",
       "\n",
       "    .dataframe tbody tr th {\n",
       "        vertical-align: top;\n",
       "    }\n",
       "\n",
       "    .dataframe thead th {\n",
       "        text-align: right;\n",
       "    }\n",
       "</style>\n",
       "<table border=\"1\" class=\"dataframe\">\n",
       "  <thead>\n",
       "    <tr style=\"text-align: right;\">\n",
       "      <th></th>\n",
       "      <th>0</th>\n",
       "      <th>1</th>\n",
       "      <th>2</th>\n",
       "    </tr>\n",
       "  </thead>\n",
       "  <tbody>\n",
       "    <tr>\n",
       "      <th>1</th>\n",
       "      <td>현대</td>\n",
       "      <td>1000</td>\n",
       "      <td>자동차</td>\n",
       "    </tr>\n",
       "    <tr>\n",
       "      <th>2</th>\n",
       "      <td>네이버</td>\n",
       "      <td>500</td>\n",
       "      <td>포털</td>\n",
       "    </tr>\n",
       "  </tbody>\n",
       "</table>\n",
       "</div>"
      ],
      "text/plain": [
       "     0     1    2\n",
       "1   현대  1000  자동차\n",
       "2  네이버   500   포털"
      ]
     },
     "execution_count": 11,
     "metadata": {},
     "output_type": "execute_result"
    }
   ],
   "source": [
    "d.tail(2)"
   ]
  },
  {
   "cell_type": "code",
   "execution_count": 12,
   "id": "7811e87c",
   "metadata": {},
   "outputs": [
    {
     "name": "stdout",
     "output_type": "stream",
     "text": [
      "<class 'pandas.core.frame.DataFrame'>\n",
      "RangeIndex: 3 entries, 0 to 2\n",
      "Data columns (total 3 columns):\n",
      " #   Column  Non-Null Count  Dtype \n",
      "---  ------  --------------  ----- \n",
      " 0   0       3 non-null      object\n",
      " 1   1       3 non-null      int64 \n",
      " 2   2       3 non-null      object\n",
      "dtypes: int64(1), object(2)\n",
      "memory usage: 200.0+ bytes\n"
     ]
    }
   ],
   "source": [
    "# DataFrame의 데이터 파악하기\n",
    "d.info()"
   ]
  },
  {
   "cell_type": "code",
   "execution_count": 13,
   "id": "8d3fd3b7",
   "metadata": {},
   "outputs": [
    {
     "data": {
      "text/html": [
       "<div>\n",
       "<style scoped>\n",
       "    .dataframe tbody tr th:only-of-type {\n",
       "        vertical-align: middle;\n",
       "    }\n",
       "\n",
       "    .dataframe tbody tr th {\n",
       "        vertical-align: top;\n",
       "    }\n",
       "\n",
       "    .dataframe thead th {\n",
       "        text-align: right;\n",
       "    }\n",
       "</style>\n",
       "<table border=\"1\" class=\"dataframe\">\n",
       "  <thead>\n",
       "    <tr style=\"text-align: right;\">\n",
       "      <th></th>\n",
       "      <th>1</th>\n",
       "    </tr>\n",
       "  </thead>\n",
       "  <tbody>\n",
       "    <tr>\n",
       "      <th>count</th>\n",
       "      <td>3.000000</td>\n",
       "    </tr>\n",
       "    <tr>\n",
       "      <th>mean</th>\n",
       "      <td>1166.666667</td>\n",
       "    </tr>\n",
       "    <tr>\n",
       "      <th>std</th>\n",
       "      <td>763.762616</td>\n",
       "    </tr>\n",
       "    <tr>\n",
       "      <th>min</th>\n",
       "      <td>500.000000</td>\n",
       "    </tr>\n",
       "    <tr>\n",
       "      <th>25%</th>\n",
       "      <td>750.000000</td>\n",
       "    </tr>\n",
       "    <tr>\n",
       "      <th>50%</th>\n",
       "      <td>1000.000000</td>\n",
       "    </tr>\n",
       "    <tr>\n",
       "      <th>75%</th>\n",
       "      <td>1500.000000</td>\n",
       "    </tr>\n",
       "    <tr>\n",
       "      <th>max</th>\n",
       "      <td>2000.000000</td>\n",
       "    </tr>\n",
       "  </tbody>\n",
       "</table>\n",
       "</div>"
      ],
      "text/plain": [
       "                 1\n",
       "count     3.000000\n",
       "mean   1166.666667\n",
       "std     763.762616\n",
       "min     500.000000\n",
       "25%     750.000000\n",
       "50%    1000.000000\n",
       "75%    1500.000000\n",
       "max    2000.000000"
      ]
     },
     "execution_count": 13,
     "metadata": {},
     "output_type": "execute_result"
    }
   ],
   "source": [
    "# 데이터 통계값 요약해서 보기\n",
    "d.describe()"
   ]
  },
  {
   "cell_type": "code",
   "execution_count": 14,
   "id": "3fb727cb",
   "metadata": {},
   "outputs": [
    {
     "data": {
      "text/plain": [
       "1    1000.0\n",
       "dtype: float64"
      ]
     },
     "execution_count": 14,
     "metadata": {},
     "output_type": "execute_result"
    }
   ],
   "source": [
    "# 4분위수 (Quartile): 통계값 중의 하나로 데이터의 분포를 작은 수부터 큰 수까지 나열하여 4등분한 지점 (데이터를 25%씩 동등 분할)\n",
    "# cf) Quantile: 주어진 데이터를 동등하게 분할하는 지점\n",
    "# Q1(25%, 1사분위), Q2(50%), 2사분위, Q3(75%, 3사분위), Q4(100%, 4사분위)\n",
    "# 50% == medium(중앙값, 중위값)\n",
    "d.median()"
   ]
  },
  {
   "cell_type": "code",
   "execution_count": 15,
   "id": "2d5e4f0a",
   "metadata": {},
   "outputs": [
    {
     "data": {
      "text/html": [
       "<div>\n",
       "<style scoped>\n",
       "    .dataframe tbody tr th:only-of-type {\n",
       "        vertical-align: middle;\n",
       "    }\n",
       "\n",
       "    .dataframe tbody tr th {\n",
       "        vertical-align: top;\n",
       "    }\n",
       "\n",
       "    .dataframe thead th {\n",
       "        text-align: right;\n",
       "    }\n",
       "</style>\n",
       "<table border=\"1\" class=\"dataframe\">\n",
       "  <thead>\n",
       "    <tr style=\"text-align: right;\">\n",
       "      <th></th>\n",
       "      <th>기업명</th>\n",
       "      <th>주가</th>\n",
       "      <th>업종</th>\n",
       "    </tr>\n",
       "  </thead>\n",
       "  <tbody>\n",
       "    <tr>\n",
       "      <th>1</th>\n",
       "      <td>삼성</td>\n",
       "      <td>2000</td>\n",
       "      <td>스마트폰</td>\n",
       "    </tr>\n",
       "    <tr>\n",
       "      <th>2</th>\n",
       "      <td>현대</td>\n",
       "      <td>1000</td>\n",
       "      <td>자동차</td>\n",
       "    </tr>\n",
       "    <tr>\n",
       "      <th>3</th>\n",
       "      <td>네이버</td>\n",
       "      <td>500</td>\n",
       "      <td>포털</td>\n",
       "    </tr>\n",
       "  </tbody>\n",
       "</table>\n",
       "</div>"
      ],
      "text/plain": [
       "   기업명    주가    업종\n",
       "1   삼성  2000  스마트폰\n",
       "2   현대  1000   자동차\n",
       "3  네이버   500    포털"
      ]
     },
     "execution_count": 15,
     "metadata": {},
     "output_type": "execute_result"
    }
   ],
   "source": [
    "# 2. value와 index 둘다 주기\n",
    "index = [1, 2, 3]\n",
    "columns = ['기업명', '주가', '업종']\n",
    "data = [['삼성', 2000, '스마트폰'],\n",
    "        ['현대', 1000, '자동차'],\n",
    "        ['네이버', 500, '포털']]\n",
    "d = pd.DataFrame(data=data, index=index, columns=columns)\n",
    "d"
   ]
  },
  {
   "cell_type": "code",
   "execution_count": 16,
   "id": "183eda77",
   "metadata": {},
   "outputs": [
    {
     "data": {
      "text/plain": [
       "Int64Index([1, 2, 3], dtype='int64')"
      ]
     },
     "execution_count": 16,
     "metadata": {},
     "output_type": "execute_result"
    }
   ],
   "source": [
    "d.index"
   ]
  },
  {
   "cell_type": "code",
   "execution_count": 17,
   "id": "13e63368",
   "metadata": {},
   "outputs": [
    {
     "data": {
      "text/plain": [
       "Index(['기업명', '주가', '업종'], dtype='object')"
      ]
     },
     "execution_count": 17,
     "metadata": {},
     "output_type": "execute_result"
    }
   ],
   "source": [
    "d.columns"
   ]
  },
  {
   "cell_type": "code",
   "execution_count": 18,
   "id": "3771adb3",
   "metadata": {},
   "outputs": [
    {
     "data": {
      "text/plain": [
       "array([['삼성', 2000, '스마트폰'],\n",
       "       ['현대', 1000, '자동차'],\n",
       "       ['네이버', 500, '포털']], dtype=object)"
      ]
     },
     "execution_count": 18,
     "metadata": {},
     "output_type": "execute_result"
    }
   ],
   "source": [
    "d.values"
   ]
  },
  {
   "cell_type": "code",
   "execution_count": 19,
   "id": "627b4713",
   "metadata": {},
   "outputs": [
    {
     "data": {
      "text/html": [
       "<div>\n",
       "<style scoped>\n",
       "    .dataframe tbody tr th:only-of-type {\n",
       "        vertical-align: middle;\n",
       "    }\n",
       "\n",
       "    .dataframe tbody tr th {\n",
       "        vertical-align: top;\n",
       "    }\n",
       "\n",
       "    .dataframe thead th {\n",
       "        text-align: right;\n",
       "    }\n",
       "</style>\n",
       "<table border=\"1\" class=\"dataframe\">\n",
       "  <thead>\n",
       "    <tr style=\"text-align: right;\">\n",
       "      <th></th>\n",
       "      <th>기업명</th>\n",
       "      <th>주가</th>\n",
       "      <th>업종</th>\n",
       "    </tr>\n",
       "  </thead>\n",
       "  <tbody>\n",
       "    <tr>\n",
       "      <th>1</th>\n",
       "      <td>삼성</td>\n",
       "      <td>2000</td>\n",
       "      <td>스마트폰</td>\n",
       "    </tr>\n",
       "    <tr>\n",
       "      <th>2</th>\n",
       "      <td>현대</td>\n",
       "      <td>1000</td>\n",
       "      <td>자동차</td>\n",
       "    </tr>\n",
       "    <tr>\n",
       "      <th>3</th>\n",
       "      <td>네이버</td>\n",
       "      <td>500</td>\n",
       "      <td>포털</td>\n",
       "    </tr>\n",
       "  </tbody>\n",
       "</table>\n",
       "</div>"
      ],
      "text/plain": [
       "   기업명    주가    업종\n",
       "1   삼성  2000  스마트폰\n",
       "2   현대  1000   자동차\n",
       "3  네이버   500    포털"
      ]
     },
     "execution_count": 19,
     "metadata": {},
     "output_type": "execute_result"
    }
   ],
   "source": [
    "# 3. 딕셔너리로 만들기(열 기준으로)\n",
    "data = {\n",
    "    '기업명': ['삼성', '현대', '네이버'],\n",
    "    '주가': [2000, 1000, 500],\n",
    "    '업종': ['스마트폰', '자동차', '포털']\n",
    "}\n",
    "d2 = pd.DataFrame(data=data, index=index)\n",
    "d2"
   ]
  },
  {
   "cell_type": "code",
   "execution_count": 20,
   "id": "04d757b6",
   "metadata": {},
   "outputs": [
    {
     "data": {
      "text/html": [
       "<div>\n",
       "<style scoped>\n",
       "    .dataframe tbody tr th:only-of-type {\n",
       "        vertical-align: middle;\n",
       "    }\n",
       "\n",
       "    .dataframe tbody tr th {\n",
       "        vertical-align: top;\n",
       "    }\n",
       "\n",
       "    .dataframe thead th {\n",
       "        text-align: right;\n",
       "    }\n",
       "</style>\n",
       "<table border=\"1\" class=\"dataframe\">\n",
       "  <thead>\n",
       "    <tr style=\"text-align: right;\">\n",
       "      <th></th>\n",
       "      <th>기업명</th>\n",
       "      <th>주가</th>\n",
       "      <th>업종</th>\n",
       "    </tr>\n",
       "    <tr>\n",
       "      <th>순서</th>\n",
       "      <th></th>\n",
       "      <th></th>\n",
       "      <th></th>\n",
       "    </tr>\n",
       "  </thead>\n",
       "  <tbody>\n",
       "    <tr>\n",
       "      <th>1</th>\n",
       "      <td>삼성</td>\n",
       "      <td>2000</td>\n",
       "      <td>스마트폰</td>\n",
       "    </tr>\n",
       "    <tr>\n",
       "      <th>2</th>\n",
       "      <td>현대</td>\n",
       "      <td>1000</td>\n",
       "      <td>자동차</td>\n",
       "    </tr>\n",
       "    <tr>\n",
       "      <th>3</th>\n",
       "      <td>네이버</td>\n",
       "      <td>500</td>\n",
       "      <td>포털</td>\n",
       "    </tr>\n",
       "  </tbody>\n",
       "</table>\n",
       "</div>"
      ],
      "text/plain": [
       "    기업명    주가    업종\n",
       "순서                 \n",
       "1    삼성  2000  스마트폰\n",
       "2    현대  1000   자동차\n",
       "3   네이버   500    포털"
      ]
     },
     "execution_count": 20,
     "metadata": {},
     "output_type": "execute_result"
    }
   ],
   "source": [
    "# 행 인덱스 이름 추ㅏ\n",
    "d.index.name = '순서'\n",
    "d"
   ]
  },
  {
   "cell_type": "code",
   "execution_count": 21,
   "id": "41740363",
   "metadata": {},
   "outputs": [
    {
     "data": {
      "text/html": [
       "<div>\n",
       "<style scoped>\n",
       "    .dataframe tbody tr th:only-of-type {\n",
       "        vertical-align: middle;\n",
       "    }\n",
       "\n",
       "    .dataframe tbody tr th {\n",
       "        vertical-align: top;\n",
       "    }\n",
       "\n",
       "    .dataframe thead th {\n",
       "        text-align: right;\n",
       "    }\n",
       "</style>\n",
       "<table border=\"1\" class=\"dataframe\">\n",
       "  <thead>\n",
       "    <tr style=\"text-align: right;\">\n",
       "      <th>항목</th>\n",
       "      <th>기업명</th>\n",
       "      <th>주가</th>\n",
       "      <th>업종</th>\n",
       "    </tr>\n",
       "    <tr>\n",
       "      <th>순서</th>\n",
       "      <th></th>\n",
       "      <th></th>\n",
       "      <th></th>\n",
       "    </tr>\n",
       "  </thead>\n",
       "  <tbody>\n",
       "    <tr>\n",
       "      <th>1</th>\n",
       "      <td>삼성</td>\n",
       "      <td>2000</td>\n",
       "      <td>스마트폰</td>\n",
       "    </tr>\n",
       "    <tr>\n",
       "      <th>2</th>\n",
       "      <td>현대</td>\n",
       "      <td>1000</td>\n",
       "      <td>자동차</td>\n",
       "    </tr>\n",
       "    <tr>\n",
       "      <th>3</th>\n",
       "      <td>네이버</td>\n",
       "      <td>500</td>\n",
       "      <td>포털</td>\n",
       "    </tr>\n",
       "  </tbody>\n",
       "</table>\n",
       "</div>"
      ],
      "text/plain": [
       "항목  기업명    주가    업종\n",
       "순서                 \n",
       "1    삼성  2000  스마트폰\n",
       "2    현대  1000   자동차\n",
       "3   네이버   500    포털"
      ]
     },
     "execution_count": 21,
     "metadata": {},
     "output_type": "execute_result"
    }
   ],
   "source": [
    "# 열 인덱스 이름 주기\n",
    "d.columns.name = '항목'\n",
    "d"
   ]
  },
  {
   "cell_type": "markdown",
   "id": "9e44a626",
   "metadata": {},
   "source": [
    "## 3-2. DataFrame 인덱싱과 슬라이싱"
   ]
  },
  {
   "cell_type": "code",
   "execution_count": 22,
   "id": "ebf72ff4",
   "metadata": {},
   "outputs": [
    {
     "data": {
      "text/html": [
       "<div>\n",
       "<style scoped>\n",
       "    .dataframe tbody tr th:only-of-type {\n",
       "        vertical-align: middle;\n",
       "    }\n",
       "\n",
       "    .dataframe tbody tr th {\n",
       "        vertical-align: top;\n",
       "    }\n",
       "\n",
       "    .dataframe thead th {\n",
       "        text-align: right;\n",
       "    }\n",
       "</style>\n",
       "<table border=\"1\" class=\"dataframe\">\n",
       "  <thead>\n",
       "    <tr style=\"text-align: right;\">\n",
       "      <th>항목</th>\n",
       "      <th>기업명</th>\n",
       "      <th>주가</th>\n",
       "      <th>업종</th>\n",
       "    </tr>\n",
       "    <tr>\n",
       "      <th>순서</th>\n",
       "      <th></th>\n",
       "      <th></th>\n",
       "      <th></th>\n",
       "    </tr>\n",
       "  </thead>\n",
       "  <tbody>\n",
       "    <tr>\n",
       "      <th>1</th>\n",
       "      <td>삼성</td>\n",
       "      <td>2000</td>\n",
       "      <td>스마트폰</td>\n",
       "    </tr>\n",
       "    <tr>\n",
       "      <th>2</th>\n",
       "      <td>현대</td>\n",
       "      <td>1000</td>\n",
       "      <td>자동차</td>\n",
       "    </tr>\n",
       "    <tr>\n",
       "      <th>3</th>\n",
       "      <td>네이버</td>\n",
       "      <td>500</td>\n",
       "      <td>포털</td>\n",
       "    </tr>\n",
       "  </tbody>\n",
       "</table>\n",
       "</div>"
      ],
      "text/plain": [
       "항목  기업명    주가    업종\n",
       "순서                 \n",
       "1    삼성  2000  스마트폰\n",
       "2    현대  1000   자동차\n",
       "3   네이버   500    포털"
      ]
     },
     "execution_count": 22,
     "metadata": {},
     "output_type": "execute_result"
    }
   ],
   "source": [
    "# 열 인덱싱\n",
    "d"
   ]
  },
  {
   "cell_type": "code",
   "execution_count": 23,
   "id": "12622a6e",
   "metadata": {},
   "outputs": [
    {
     "data": {
      "text/plain": [
       "순서\n",
       "1     삼성\n",
       "2     현대\n",
       "3    네이버\n",
       "Name: 기업명, dtype: object"
      ]
     },
     "execution_count": 23,
     "metadata": {},
     "output_type": "execute_result"
    }
   ],
   "source": [
    "d['기업명']"
   ]
  },
  {
   "cell_type": "code",
   "execution_count": 24,
   "id": "dfdfcc6d",
   "metadata": {},
   "outputs": [
    {
     "data": {
      "text/plain": [
       "pandas.core.series.Series"
      ]
     },
     "execution_count": 24,
     "metadata": {},
     "output_type": "execute_result"
    }
   ],
   "source": [
    "type(d['기업명'])"
   ]
  },
  {
   "cell_type": "code",
   "execution_count": 25,
   "id": "e5d26992",
   "metadata": {},
   "outputs": [
    {
     "data": {
      "text/plain": [
       "순서\n",
       "1     삼성\n",
       "2     현대\n",
       "3    네이버\n",
       "Name: 기업명, dtype: object"
      ]
     },
     "execution_count": 25,
     "metadata": {},
     "output_type": "execute_result"
    }
   ],
   "source": [
    "d.기업명"
   ]
  },
  {
   "cell_type": "code",
   "execution_count": 26,
   "id": "64f34bf0",
   "metadata": {},
   "outputs": [
    {
     "data": {
      "text/html": [
       "<div>\n",
       "<style scoped>\n",
       "    .dataframe tbody tr th:only-of-type {\n",
       "        vertical-align: middle;\n",
       "    }\n",
       "\n",
       "    .dataframe tbody tr th {\n",
       "        vertical-align: top;\n",
       "    }\n",
       "\n",
       "    .dataframe thead th {\n",
       "        text-align: right;\n",
       "    }\n",
       "</style>\n",
       "<table border=\"1\" class=\"dataframe\">\n",
       "  <thead>\n",
       "    <tr style=\"text-align: right;\">\n",
       "      <th>항목</th>\n",
       "      <th>기업명</th>\n",
       "      <th>업종</th>\n",
       "    </tr>\n",
       "    <tr>\n",
       "      <th>순서</th>\n",
       "      <th></th>\n",
       "      <th></th>\n",
       "    </tr>\n",
       "  </thead>\n",
       "  <tbody>\n",
       "    <tr>\n",
       "      <th>1</th>\n",
       "      <td>삼성</td>\n",
       "      <td>스마트폰</td>\n",
       "    </tr>\n",
       "    <tr>\n",
       "      <th>2</th>\n",
       "      <td>현대</td>\n",
       "      <td>자동차</td>\n",
       "    </tr>\n",
       "    <tr>\n",
       "      <th>3</th>\n",
       "      <td>네이버</td>\n",
       "      <td>포털</td>\n",
       "    </tr>\n",
       "  </tbody>\n",
       "</table>\n",
       "</div>"
      ],
      "text/plain": [
       "항목  기업명    업종\n",
       "순서           \n",
       "1    삼성  스마트폰\n",
       "2    현대   자동차\n",
       "3   네이버    포털"
      ]
     },
     "execution_count": 26,
     "metadata": {},
     "output_type": "execute_result"
    }
   ],
   "source": [
    "# 여러개의 열 인덱싱(Fancy Indexing)\n",
    "a = d[['기업명', '업종']]\n",
    "a"
   ]
  },
  {
   "cell_type": "code",
   "execution_count": 27,
   "id": "37e8278c",
   "metadata": {},
   "outputs": [
    {
     "data": {
      "text/plain": [
       "pandas.core.frame.DataFrame"
      ]
     },
     "execution_count": 27,
     "metadata": {},
     "output_type": "execute_result"
    }
   ],
   "source": [
    "type(a)"
   ]
  },
  {
   "cell_type": "code",
   "execution_count": 28,
   "id": "8dc66fe6",
   "metadata": {},
   "outputs": [
    {
     "data": {
      "text/html": [
       "<div>\n",
       "<style scoped>\n",
       "    .dataframe tbody tr th:only-of-type {\n",
       "        vertical-align: middle;\n",
       "    }\n",
       "\n",
       "    .dataframe tbody tr th {\n",
       "        vertical-align: top;\n",
       "    }\n",
       "\n",
       "    .dataframe thead th {\n",
       "        text-align: right;\n",
       "    }\n",
       "</style>\n",
       "<table border=\"1\" class=\"dataframe\">\n",
       "  <thead>\n",
       "    <tr style=\"text-align: right;\">\n",
       "      <th>항목</th>\n",
       "      <th>기업명</th>\n",
       "    </tr>\n",
       "    <tr>\n",
       "      <th>순서</th>\n",
       "      <th></th>\n",
       "    </tr>\n",
       "  </thead>\n",
       "  <tbody>\n",
       "    <tr>\n",
       "      <th>1</th>\n",
       "      <td>삼성</td>\n",
       "    </tr>\n",
       "    <tr>\n",
       "      <th>2</th>\n",
       "      <td>현대</td>\n",
       "    </tr>\n",
       "    <tr>\n",
       "      <th>3</th>\n",
       "      <td>네이버</td>\n",
       "    </tr>\n",
       "  </tbody>\n",
       "</table>\n",
       "</div>"
      ],
      "text/plain": [
       "항목  기업명\n",
       "순서     \n",
       "1    삼성\n",
       "2    현대\n",
       "3   네이버"
      ]
     },
     "execution_count": 28,
     "metadata": {},
     "output_type": "execute_result"
    }
   ],
   "source": [
    "d[['기업명']]"
   ]
  },
  {
   "cell_type": "code",
   "execution_count": 29,
   "id": "c2498ef4",
   "metadata": {},
   "outputs": [
    {
     "data": {
      "text/html": [
       "<div>\n",
       "<style scoped>\n",
       "    .dataframe tbody tr th:only-of-type {\n",
       "        vertical-align: middle;\n",
       "    }\n",
       "\n",
       "    .dataframe tbody tr th {\n",
       "        vertical-align: top;\n",
       "    }\n",
       "\n",
       "    .dataframe thead th {\n",
       "        text-align: right;\n",
       "    }\n",
       "</style>\n",
       "<table border=\"1\" class=\"dataframe\">\n",
       "  <thead>\n",
       "    <tr style=\"text-align: right;\">\n",
       "      <th>항목</th>\n",
       "      <th>기업명</th>\n",
       "      <th>주가</th>\n",
       "      <th>업종</th>\n",
       "    </tr>\n",
       "    <tr>\n",
       "      <th>순서</th>\n",
       "      <th></th>\n",
       "      <th></th>\n",
       "      <th></th>\n",
       "    </tr>\n",
       "  </thead>\n",
       "  <tbody>\n",
       "    <tr>\n",
       "      <th>1</th>\n",
       "      <td>삼성</td>\n",
       "      <td>2000</td>\n",
       "      <td>스마트폰</td>\n",
       "    </tr>\n",
       "    <tr>\n",
       "      <th>2</th>\n",
       "      <td>현대</td>\n",
       "      <td>1000</td>\n",
       "      <td>자동차</td>\n",
       "    </tr>\n",
       "    <tr>\n",
       "      <th>3</th>\n",
       "      <td>네이버</td>\n",
       "      <td>500</td>\n",
       "      <td>포털</td>\n",
       "    </tr>\n",
       "  </tbody>\n",
       "</table>\n",
       "</div>"
      ],
      "text/plain": [
       "항목  기업명    주가    업종\n",
       "순서                 \n",
       "1    삼성  2000  스마트폰\n",
       "2    현대  1000   자동차\n",
       "3   네이버   500    포털"
      ]
     },
     "execution_count": 29,
     "metadata": {},
     "output_type": "execute_result"
    }
   ],
   "source": [
    "d"
   ]
  },
  {
   "cell_type": "code",
   "execution_count": 30,
   "id": "8accd17e",
   "metadata": {},
   "outputs": [
    {
     "data": {
      "text/html": [
       "<div>\n",
       "<style scoped>\n",
       "    .dataframe tbody tr th:only-of-type {\n",
       "        vertical-align: middle;\n",
       "    }\n",
       "\n",
       "    .dataframe tbody tr th {\n",
       "        vertical-align: top;\n",
       "    }\n",
       "\n",
       "    .dataframe thead th {\n",
       "        text-align: right;\n",
       "    }\n",
       "</style>\n",
       "<table border=\"1\" class=\"dataframe\">\n",
       "  <thead>\n",
       "    <tr style=\"text-align: right;\">\n",
       "      <th>항목</th>\n",
       "      <th>기업명</th>\n",
       "      <th>주가</th>\n",
       "      <th>업종</th>\n",
       "    </tr>\n",
       "    <tr>\n",
       "      <th>기업명</th>\n",
       "      <th></th>\n",
       "      <th></th>\n",
       "      <th></th>\n",
       "    </tr>\n",
       "  </thead>\n",
       "  <tbody>\n",
       "    <tr>\n",
       "      <th>삼성</th>\n",
       "      <td>삼성</td>\n",
       "      <td>2000</td>\n",
       "      <td>스마트폰</td>\n",
       "    </tr>\n",
       "    <tr>\n",
       "      <th>현대</th>\n",
       "      <td>현대</td>\n",
       "      <td>1000</td>\n",
       "      <td>자동차</td>\n",
       "    </tr>\n",
       "    <tr>\n",
       "      <th>네이버</th>\n",
       "      <td>네이버</td>\n",
       "      <td>500</td>\n",
       "      <td>포털</td>\n",
       "    </tr>\n",
       "  </tbody>\n",
       "</table>\n",
       "</div>"
      ],
      "text/plain": [
       "항목   기업명    주가    업종\n",
       "기업명                 \n",
       "삼성    삼성  2000  스마트폰\n",
       "현대    현대  1000   자동차\n",
       "네이버  네이버   500    포털"
      ]
     },
     "execution_count": 30,
     "metadata": {},
     "output_type": "execute_result"
    }
   ],
   "source": [
    "# 기업명 -> 행 인덱스로 옯기기\n",
    "d.index = d['기업명']\n",
    "d"
   ]
  },
  {
   "cell_type": "code",
   "execution_count": 31,
   "id": "37165af6",
   "metadata": {},
   "outputs": [
    {
     "data": {
      "text/html": [
       "<div>\n",
       "<style scoped>\n",
       "    .dataframe tbody tr th:only-of-type {\n",
       "        vertical-align: middle;\n",
       "    }\n",
       "\n",
       "    .dataframe tbody tr th {\n",
       "        vertical-align: top;\n",
       "    }\n",
       "\n",
       "    .dataframe thead th {\n",
       "        text-align: right;\n",
       "    }\n",
       "</style>\n",
       "<table border=\"1\" class=\"dataframe\">\n",
       "  <thead>\n",
       "    <tr style=\"text-align: right;\">\n",
       "      <th>항목</th>\n",
       "      <th>주가</th>\n",
       "      <th>업종</th>\n",
       "    </tr>\n",
       "    <tr>\n",
       "      <th>기업명</th>\n",
       "      <th></th>\n",
       "      <th></th>\n",
       "    </tr>\n",
       "  </thead>\n",
       "  <tbody>\n",
       "    <tr>\n",
       "      <th>삼성</th>\n",
       "      <td>2000</td>\n",
       "      <td>스마트폰</td>\n",
       "    </tr>\n",
       "    <tr>\n",
       "      <th>현대</th>\n",
       "      <td>1000</td>\n",
       "      <td>자동차</td>\n",
       "    </tr>\n",
       "    <tr>\n",
       "      <th>네이버</th>\n",
       "      <td>500</td>\n",
       "      <td>포털</td>\n",
       "    </tr>\n",
       "  </tbody>\n",
       "</table>\n",
       "</div>"
      ],
      "text/plain": [
       "항목     주가    업종\n",
       "기업명            \n",
       "삼성   2000  스마트폰\n",
       "현대   1000   자동차\n",
       "네이버   500    포털"
      ]
     },
     "execution_count": 31,
     "metadata": {},
     "output_type": "execute_result"
    }
   ],
   "source": [
    "# 열 삭제\n",
    "del d['기업명']\n",
    "d"
   ]
  },
  {
   "cell_type": "code",
   "execution_count": 32,
   "id": "a6dfdac0",
   "metadata": {},
   "outputs": [
    {
     "data": {
      "text/html": [
       "<div>\n",
       "<style scoped>\n",
       "    .dataframe tbody tr th:only-of-type {\n",
       "        vertical-align: middle;\n",
       "    }\n",
       "\n",
       "    .dataframe tbody tr th {\n",
       "        vertical-align: top;\n",
       "    }\n",
       "\n",
       "    .dataframe thead th {\n",
       "        text-align: right;\n",
       "    }\n",
       "</style>\n",
       "<table border=\"1\" class=\"dataframe\">\n",
       "  <thead>\n",
       "    <tr style=\"text-align: right;\">\n",
       "      <th>항목</th>\n",
       "      <th>주가</th>\n",
       "      <th>업종</th>\n",
       "      <th>발행주식수</th>\n",
       "    </tr>\n",
       "    <tr>\n",
       "      <th>기업명</th>\n",
       "      <th></th>\n",
       "      <th></th>\n",
       "      <th></th>\n",
       "    </tr>\n",
       "  </thead>\n",
       "  <tbody>\n",
       "    <tr>\n",
       "      <th>삼성</th>\n",
       "      <td>2000</td>\n",
       "      <td>스마트폰</td>\n",
       "      <td>30000</td>\n",
       "    </tr>\n",
       "    <tr>\n",
       "      <th>현대</th>\n",
       "      <td>1000</td>\n",
       "      <td>자동차</td>\n",
       "      <td>20000</td>\n",
       "    </tr>\n",
       "    <tr>\n",
       "      <th>네이버</th>\n",
       "      <td>500</td>\n",
       "      <td>포털</td>\n",
       "      <td>10000</td>\n",
       "    </tr>\n",
       "  </tbody>\n",
       "</table>\n",
       "</div>"
      ],
      "text/plain": [
       "항목     주가    업종  발행주식수\n",
       "기업명                   \n",
       "삼성   2000  스마트폰  30000\n",
       "현대   1000   자동차  20000\n",
       "네이버   500    포털  10000"
      ]
     },
     "execution_count": 32,
     "metadata": {},
     "output_type": "execute_result"
    }
   ],
   "source": [
    "# 열 추가\n",
    "d['발행주식수'] = [30000, 20000, 10000]\n",
    "d"
   ]
  },
  {
   "cell_type": "code",
   "execution_count": 33,
   "id": "549e8bf1",
   "metadata": {},
   "outputs": [
    {
     "data": {
      "text/plain": [
       "항목\n",
       "주가        2000\n",
       "업종        스마트폰\n",
       "발행주식수    30000\n",
       "Name: 삼성, dtype: object"
      ]
     },
     "execution_count": 33,
     "metadata": {},
     "output_type": "execute_result"
    }
   ],
   "source": [
    "# 행 인덱싱\n",
    "# 1. loc (label location): 인덱스 기법을 통해서 인덱싱\n",
    "d.loc['삼성']"
   ]
  },
  {
   "cell_type": "code",
   "execution_count": 34,
   "id": "4feaffda",
   "metadata": {},
   "outputs": [],
   "source": [
    "# d.loc['LG']"
   ]
  },
  {
   "cell_type": "code",
   "execution_count": 35,
   "id": "78393c23",
   "metadata": {},
   "outputs": [
    {
     "data": {
      "text/html": [
       "<div>\n",
       "<style scoped>\n",
       "    .dataframe tbody tr th:only-of-type {\n",
       "        vertical-align: middle;\n",
       "    }\n",
       "\n",
       "    .dataframe tbody tr th {\n",
       "        vertical-align: top;\n",
       "    }\n",
       "\n",
       "    .dataframe thead th {\n",
       "        text-align: right;\n",
       "    }\n",
       "</style>\n",
       "<table border=\"1\" class=\"dataframe\">\n",
       "  <thead>\n",
       "    <tr style=\"text-align: right;\">\n",
       "      <th>항목</th>\n",
       "      <th>주가</th>\n",
       "      <th>업종</th>\n",
       "      <th>발행주식수</th>\n",
       "    </tr>\n",
       "    <tr>\n",
       "      <th>기업명</th>\n",
       "      <th></th>\n",
       "      <th></th>\n",
       "      <th></th>\n",
       "    </tr>\n",
       "  </thead>\n",
       "  <tbody>\n",
       "    <tr>\n",
       "      <th>삼성</th>\n",
       "      <td>2000</td>\n",
       "      <td>스마트폰</td>\n",
       "      <td>30000</td>\n",
       "    </tr>\n",
       "    <tr>\n",
       "      <th>네이버</th>\n",
       "      <td>500</td>\n",
       "      <td>포털</td>\n",
       "      <td>10000</td>\n",
       "    </tr>\n",
       "  </tbody>\n",
       "</table>\n",
       "</div>"
      ],
      "text/plain": [
       "항목     주가    업종  발행주식수\n",
       "기업명                   \n",
       "삼성   2000  스마트폰  30000\n",
       "네이버   500    포털  10000"
      ]
     },
     "execution_count": 35,
     "metadata": {},
     "output_type": "execute_result"
    }
   ],
   "source": [
    "d.loc[['삼성', '네이버']]"
   ]
  },
  {
   "cell_type": "code",
   "execution_count": 36,
   "id": "88ded22c",
   "metadata": {},
   "outputs": [
    {
     "data": {
      "text/plain": [
       "항목\n",
       "주가        2000\n",
       "업종        스마트폰\n",
       "발행주식수    30000\n",
       "Name: 삼성, dtype: object"
      ]
     },
     "execution_count": 36,
     "metadata": {},
     "output_type": "execute_result"
    }
   ],
   "source": [
    "# 2. iloc(integer location) (0인덱스를 사용해서 인덱싱)\n",
    "d.iloc[0]"
   ]
  },
  {
   "cell_type": "code",
   "execution_count": 37,
   "id": "3ec4d89b",
   "metadata": {},
   "outputs": [
    {
     "data": {
      "text/plain": [
       "항목\n",
       "주가         500\n",
       "업종          포털\n",
       "발행주식수    10000\n",
       "Name: 네이버, dtype: object"
      ]
     },
     "execution_count": 37,
     "metadata": {},
     "output_type": "execute_result"
    }
   ],
   "source": [
    "d.iloc[-1]"
   ]
  },
  {
   "cell_type": "code",
   "execution_count": 38,
   "id": "758c5711",
   "metadata": {},
   "outputs": [
    {
     "data": {
      "text/html": [
       "<div>\n",
       "<style scoped>\n",
       "    .dataframe tbody tr th:only-of-type {\n",
       "        vertical-align: middle;\n",
       "    }\n",
       "\n",
       "    .dataframe tbody tr th {\n",
       "        vertical-align: top;\n",
       "    }\n",
       "\n",
       "    .dataframe thead th {\n",
       "        text-align: right;\n",
       "    }\n",
       "</style>\n",
       "<table border=\"1\" class=\"dataframe\">\n",
       "  <thead>\n",
       "    <tr style=\"text-align: right;\">\n",
       "      <th>항목</th>\n",
       "      <th>주가</th>\n",
       "      <th>업종</th>\n",
       "      <th>발행주식수</th>\n",
       "    </tr>\n",
       "    <tr>\n",
       "      <th>기업명</th>\n",
       "      <th></th>\n",
       "      <th></th>\n",
       "      <th></th>\n",
       "    </tr>\n",
       "  </thead>\n",
       "  <tbody>\n",
       "    <tr>\n",
       "      <th>삼성</th>\n",
       "      <td>2000</td>\n",
       "      <td>스마트폰</td>\n",
       "      <td>30000</td>\n",
       "    </tr>\n",
       "    <tr>\n",
       "      <th>네이버</th>\n",
       "      <td>500</td>\n",
       "      <td>포털</td>\n",
       "      <td>10000</td>\n",
       "    </tr>\n",
       "  </tbody>\n",
       "</table>\n",
       "</div>"
      ],
      "text/plain": [
       "항목     주가    업종  발행주식수\n",
       "기업명                   \n",
       "삼성   2000  스마트폰  30000\n",
       "네이버   500    포털  10000"
      ]
     },
     "execution_count": 38,
     "metadata": {},
     "output_type": "execute_result"
    }
   ],
   "source": [
    "d.iloc[[0, -1]]"
   ]
  },
  {
   "cell_type": "code",
   "execution_count": 39,
   "id": "aa9c16d1",
   "metadata": {},
   "outputs": [
    {
     "data": {
      "text/plain": [
       "기업명\n",
       "삼성     스마트폰\n",
       "현대      자동차\n",
       "네이버      포털\n",
       "Name: 업종, dtype: object"
      ]
     },
     "execution_count": 39,
     "metadata": {},
     "output_type": "execute_result"
    }
   ],
   "source": [
    "# 열 데이터 -> 행 데이터\n",
    "d['업종']"
   ]
  },
  {
   "cell_type": "code",
   "execution_count": 40,
   "id": "e2f76646",
   "metadata": {},
   "outputs": [
    {
     "data": {
      "text/plain": [
       "'스마트폰'"
      ]
     },
     "execution_count": 40,
     "metadata": {},
     "output_type": "execute_result"
    }
   ],
   "source": [
    "d['업종']['삼성']"
   ]
  },
  {
   "cell_type": "code",
   "execution_count": 41,
   "id": "9815a213",
   "metadata": {},
   "outputs": [
    {
     "data": {
      "text/plain": [
       "항목\n",
       "주가        2000\n",
       "업종        스마트폰\n",
       "발행주식수    30000\n",
       "Name: 삼성, dtype: object"
      ]
     },
     "execution_count": 41,
     "metadata": {},
     "output_type": "execute_result"
    }
   ],
   "source": [
    "# 행 데이터 -> 열 데이터\n",
    "d.loc['삼성']"
   ]
  },
  {
   "cell_type": "code",
   "execution_count": 42,
   "id": "40616358",
   "metadata": {},
   "outputs": [
    {
     "data": {
      "text/plain": [
       "'스마트폰'"
      ]
     },
     "execution_count": 42,
     "metadata": {},
     "output_type": "execute_result"
    }
   ],
   "source": [
    "d.loc['삼성']['업종']"
   ]
  },
  {
   "cell_type": "code",
   "execution_count": 43,
   "id": "fae51ea9",
   "metadata": {},
   "outputs": [
    {
     "data": {
      "text/plain": [
       "'스마트폰'"
      ]
     },
     "execution_count": 43,
     "metadata": {},
     "output_type": "execute_result"
    }
   ],
   "source": [
    "d.loc['삼성', '업종']"
   ]
  },
  {
   "cell_type": "code",
   "execution_count": 44,
   "id": "400a8698",
   "metadata": {},
   "outputs": [
    {
     "data": {
      "text/plain": [
       "'스마트폰'"
      ]
     },
     "execution_count": 44,
     "metadata": {},
     "output_type": "execute_result"
    }
   ],
   "source": [
    "d.iloc[0, 1]"
   ]
  },
  {
   "cell_type": "code",
   "execution_count": 45,
   "id": "d729ee32",
   "metadata": {},
   "outputs": [
    {
     "data": {
      "text/html": [
       "<div>\n",
       "<style scoped>\n",
       "    .dataframe tbody tr th:only-of-type {\n",
       "        vertical-align: middle;\n",
       "    }\n",
       "\n",
       "    .dataframe tbody tr th {\n",
       "        vertical-align: top;\n",
       "    }\n",
       "\n",
       "    .dataframe thead th {\n",
       "        text-align: right;\n",
       "    }\n",
       "</style>\n",
       "<table border=\"1\" class=\"dataframe\">\n",
       "  <thead>\n",
       "    <tr style=\"text-align: right;\">\n",
       "      <th>항목</th>\n",
       "      <th>주가</th>\n",
       "      <th>업종</th>\n",
       "      <th>발행주식수</th>\n",
       "    </tr>\n",
       "    <tr>\n",
       "      <th>기업명</th>\n",
       "      <th></th>\n",
       "      <th></th>\n",
       "      <th></th>\n",
       "    </tr>\n",
       "  </thead>\n",
       "  <tbody>\n",
       "    <tr>\n",
       "      <th>삼성</th>\n",
       "      <td>2000</td>\n",
       "      <td>스마트폰</td>\n",
       "      <td>30000</td>\n",
       "    </tr>\n",
       "    <tr>\n",
       "      <th>현대</th>\n",
       "      <td>1000</td>\n",
       "      <td>자동차</td>\n",
       "      <td>20000</td>\n",
       "    </tr>\n",
       "    <tr>\n",
       "      <th>네이버</th>\n",
       "      <td>500</td>\n",
       "      <td>포털</td>\n",
       "      <td>10000</td>\n",
       "    </tr>\n",
       "  </tbody>\n",
       "</table>\n",
       "</div>"
      ],
      "text/plain": [
       "항목     주가    업종  발행주식수\n",
       "기업명                   \n",
       "삼성   2000  스마트폰  30000\n",
       "현대   1000   자동차  20000\n",
       "네이버   500    포털  10000"
      ]
     },
     "execution_count": 45,
     "metadata": {},
     "output_type": "execute_result"
    }
   ],
   "source": [
    "# 슬라이싱 (start:end:step)\n",
    "d"
   ]
  },
  {
   "cell_type": "code",
   "execution_count": 46,
   "id": "169598f8",
   "metadata": {},
   "outputs": [
    {
     "data": {
      "text/html": [
       "<div>\n",
       "<style scoped>\n",
       "    .dataframe tbody tr th:only-of-type {\n",
       "        vertical-align: middle;\n",
       "    }\n",
       "\n",
       "    .dataframe tbody tr th {\n",
       "        vertical-align: top;\n",
       "    }\n",
       "\n",
       "    .dataframe thead th {\n",
       "        text-align: right;\n",
       "    }\n",
       "</style>\n",
       "<table border=\"1\" class=\"dataframe\">\n",
       "  <thead>\n",
       "    <tr style=\"text-align: right;\">\n",
       "      <th>항목</th>\n",
       "      <th>주가</th>\n",
       "      <th>업종</th>\n",
       "      <th>발행주식수</th>\n",
       "    </tr>\n",
       "    <tr>\n",
       "      <th>기업명</th>\n",
       "      <th></th>\n",
       "      <th></th>\n",
       "      <th></th>\n",
       "    </tr>\n",
       "  </thead>\n",
       "  <tbody>\n",
       "    <tr>\n",
       "      <th>삼성</th>\n",
       "      <td>2000</td>\n",
       "      <td>스마트폰</td>\n",
       "      <td>30000</td>\n",
       "    </tr>\n",
       "    <tr>\n",
       "      <th>현대</th>\n",
       "      <td>1000</td>\n",
       "      <td>자동차</td>\n",
       "      <td>20000</td>\n",
       "    </tr>\n",
       "  </tbody>\n",
       "</table>\n",
       "</div>"
      ],
      "text/plain": [
       "항목     주가    업종  발행주식수\n",
       "기업명                   \n",
       "삼성   2000  스마트폰  30000\n",
       "현대   1000   자동차  20000"
      ]
     },
     "execution_count": 46,
     "metadata": {},
     "output_type": "execute_result"
    }
   ],
   "source": [
    "# 행 슬라이싱\n",
    "d[:2]"
   ]
  },
  {
   "cell_type": "code",
   "execution_count": 47,
   "id": "bdd9ffa0",
   "metadata": {},
   "outputs": [
    {
     "data": {
      "text/html": [
       "<div>\n",
       "<style scoped>\n",
       "    .dataframe tbody tr th:only-of-type {\n",
       "        vertical-align: middle;\n",
       "    }\n",
       "\n",
       "    .dataframe tbody tr th {\n",
       "        vertical-align: top;\n",
       "    }\n",
       "\n",
       "    .dataframe thead th {\n",
       "        text-align: right;\n",
       "    }\n",
       "</style>\n",
       "<table border=\"1\" class=\"dataframe\">\n",
       "  <thead>\n",
       "    <tr style=\"text-align: right;\">\n",
       "      <th>항목</th>\n",
       "      <th>주가</th>\n",
       "      <th>업종</th>\n",
       "      <th>발행주식수</th>\n",
       "    </tr>\n",
       "    <tr>\n",
       "      <th>기업명</th>\n",
       "      <th></th>\n",
       "      <th></th>\n",
       "      <th></th>\n",
       "    </tr>\n",
       "  </thead>\n",
       "  <tbody>\n",
       "    <tr>\n",
       "      <th>현대</th>\n",
       "      <td>1000</td>\n",
       "      <td>자동차</td>\n",
       "      <td>20000</td>\n",
       "    </tr>\n",
       "    <tr>\n",
       "      <th>네이버</th>\n",
       "      <td>500</td>\n",
       "      <td>포털</td>\n",
       "      <td>10000</td>\n",
       "    </tr>\n",
       "  </tbody>\n",
       "</table>\n",
       "</div>"
      ],
      "text/plain": [
       "항목     주가   업종  발행주식수\n",
       "기업명                  \n",
       "현대   1000  자동차  20000\n",
       "네이버   500   포털  10000"
      ]
     },
     "execution_count": 47,
     "metadata": {},
     "output_type": "execute_result"
    }
   ],
   "source": [
    "d[1:]"
   ]
  },
  {
   "cell_type": "code",
   "execution_count": 48,
   "id": "9adfa615",
   "metadata": {},
   "outputs": [
    {
     "data": {
      "text/html": [
       "<div>\n",
       "<style scoped>\n",
       "    .dataframe tbody tr th:only-of-type {\n",
       "        vertical-align: middle;\n",
       "    }\n",
       "\n",
       "    .dataframe tbody tr th {\n",
       "        vertical-align: top;\n",
       "    }\n",
       "\n",
       "    .dataframe thead th {\n",
       "        text-align: right;\n",
       "    }\n",
       "</style>\n",
       "<table border=\"1\" class=\"dataframe\">\n",
       "  <thead>\n",
       "    <tr style=\"text-align: right;\">\n",
       "      <th>항목</th>\n",
       "      <th>주가</th>\n",
       "      <th>업종</th>\n",
       "      <th>발행주식수</th>\n",
       "    </tr>\n",
       "    <tr>\n",
       "      <th>기업명</th>\n",
       "      <th></th>\n",
       "      <th></th>\n",
       "      <th></th>\n",
       "    </tr>\n",
       "  </thead>\n",
       "  <tbody>\n",
       "    <tr>\n",
       "      <th>삼성</th>\n",
       "      <td>2000</td>\n",
       "      <td>스마트폰</td>\n",
       "      <td>30000</td>\n",
       "    </tr>\n",
       "    <tr>\n",
       "      <th>현대</th>\n",
       "      <td>1000</td>\n",
       "      <td>자동차</td>\n",
       "      <td>20000</td>\n",
       "    </tr>\n",
       "  </tbody>\n",
       "</table>\n",
       "</div>"
      ],
      "text/plain": [
       "항목     주가    업종  발행주식수\n",
       "기업명                   \n",
       "삼성   2000  스마트폰  30000\n",
       "현대   1000   자동차  20000"
      ]
     },
     "execution_count": 48,
     "metadata": {},
     "output_type": "execute_result"
    }
   ],
   "source": [
    "d[:'현대']"
   ]
  },
  {
   "cell_type": "code",
   "execution_count": 49,
   "id": "9400c032",
   "metadata": {},
   "outputs": [
    {
     "data": {
      "text/html": [
       "<div>\n",
       "<style scoped>\n",
       "    .dataframe tbody tr th:only-of-type {\n",
       "        vertical-align: middle;\n",
       "    }\n",
       "\n",
       "    .dataframe tbody tr th {\n",
       "        vertical-align: top;\n",
       "    }\n",
       "\n",
       "    .dataframe thead th {\n",
       "        text-align: right;\n",
       "    }\n",
       "</style>\n",
       "<table border=\"1\" class=\"dataframe\">\n",
       "  <thead>\n",
       "    <tr style=\"text-align: right;\">\n",
       "      <th>항목</th>\n",
       "      <th>주가</th>\n",
       "      <th>업종</th>\n",
       "      <th>발행주식수</th>\n",
       "    </tr>\n",
       "    <tr>\n",
       "      <th>기업명</th>\n",
       "      <th></th>\n",
       "      <th></th>\n",
       "      <th></th>\n",
       "    </tr>\n",
       "  </thead>\n",
       "  <tbody>\n",
       "    <tr>\n",
       "      <th>삼성</th>\n",
       "      <td>2000</td>\n",
       "      <td>스마트폰</td>\n",
       "      <td>30000</td>\n",
       "    </tr>\n",
       "    <tr>\n",
       "      <th>현대</th>\n",
       "      <td>1000</td>\n",
       "      <td>자동차</td>\n",
       "      <td>20000</td>\n",
       "    </tr>\n",
       "    <tr>\n",
       "      <th>네이버</th>\n",
       "      <td>500</td>\n",
       "      <td>포털</td>\n",
       "      <td>10000</td>\n",
       "    </tr>\n",
       "  </tbody>\n",
       "</table>\n",
       "</div>"
      ],
      "text/plain": [
       "항목     주가    업종  발행주식수\n",
       "기업명                   \n",
       "삼성   2000  스마트폰  30000\n",
       "현대   1000   자동차  20000\n",
       "네이버   500    포털  10000"
      ]
     },
     "execution_count": 49,
     "metadata": {},
     "output_type": "execute_result"
    }
   ],
   "source": [
    "# 열 슬라이싱\n",
    "d"
   ]
  },
  {
   "cell_type": "code",
   "execution_count": 50,
   "id": "40fab0e2",
   "metadata": {},
   "outputs": [
    {
     "data": {
      "text/plain": [
       "Index(['주가', '업종', '발행주식수'], dtype='object', name='항목')"
      ]
     },
     "execution_count": 50,
     "metadata": {},
     "output_type": "execute_result"
    }
   ],
   "source": [
    "d.columns"
   ]
  },
  {
   "cell_type": "code",
   "execution_count": 51,
   "id": "601e5b88",
   "metadata": {},
   "outputs": [
    {
     "data": {
      "text/plain": [
       "Index(['업종', '발행주식수'], dtype='object', name='항목')"
      ]
     },
     "execution_count": 51,
     "metadata": {},
     "output_type": "execute_result"
    }
   ],
   "source": [
    "d.columns[1:]"
   ]
  },
  {
   "cell_type": "code",
   "execution_count": 52,
   "id": "a0be2f9f",
   "metadata": {},
   "outputs": [
    {
     "data": {
      "text/html": [
       "<div>\n",
       "<style scoped>\n",
       "    .dataframe tbody tr th:only-of-type {\n",
       "        vertical-align: middle;\n",
       "    }\n",
       "\n",
       "    .dataframe tbody tr th {\n",
       "        vertical-align: top;\n",
       "    }\n",
       "\n",
       "    .dataframe thead th {\n",
       "        text-align: right;\n",
       "    }\n",
       "</style>\n",
       "<table border=\"1\" class=\"dataframe\">\n",
       "  <thead>\n",
       "    <tr style=\"text-align: right;\">\n",
       "      <th>항목</th>\n",
       "      <th>업종</th>\n",
       "      <th>발행주식수</th>\n",
       "    </tr>\n",
       "    <tr>\n",
       "      <th>기업명</th>\n",
       "      <th></th>\n",
       "      <th></th>\n",
       "    </tr>\n",
       "  </thead>\n",
       "  <tbody>\n",
       "    <tr>\n",
       "      <th>삼성</th>\n",
       "      <td>스마트폰</td>\n",
       "      <td>30000</td>\n",
       "    </tr>\n",
       "    <tr>\n",
       "      <th>현대</th>\n",
       "      <td>자동차</td>\n",
       "      <td>20000</td>\n",
       "    </tr>\n",
       "    <tr>\n",
       "      <th>네이버</th>\n",
       "      <td>포털</td>\n",
       "      <td>10000</td>\n",
       "    </tr>\n",
       "  </tbody>\n",
       "</table>\n",
       "</div>"
      ],
      "text/plain": [
       "항목     업종  발행주식수\n",
       "기업명             \n",
       "삼성   스마트폰  30000\n",
       "현대    자동차  20000\n",
       "네이버    포털  10000"
      ]
     },
     "execution_count": 52,
     "metadata": {},
     "output_type": "execute_result"
    }
   ],
   "source": [
    "d[d.columns[1:]]"
   ]
  },
  {
   "cell_type": "code",
   "execution_count": 53,
   "id": "8ffbefd8",
   "metadata": {},
   "outputs": [
    {
     "data": {
      "text/html": [
       "<div>\n",
       "<style scoped>\n",
       "    .dataframe tbody tr th:only-of-type {\n",
       "        vertical-align: middle;\n",
       "    }\n",
       "\n",
       "    .dataframe tbody tr th {\n",
       "        vertical-align: top;\n",
       "    }\n",
       "\n",
       "    .dataframe thead th {\n",
       "        text-align: right;\n",
       "    }\n",
       "</style>\n",
       "<table border=\"1\" class=\"dataframe\">\n",
       "  <thead>\n",
       "    <tr style=\"text-align: right;\">\n",
       "      <th>항목</th>\n",
       "      <th>주가</th>\n",
       "      <th>업종</th>\n",
       "    </tr>\n",
       "    <tr>\n",
       "      <th>기업명</th>\n",
       "      <th></th>\n",
       "      <th></th>\n",
       "    </tr>\n",
       "  </thead>\n",
       "  <tbody>\n",
       "    <tr>\n",
       "      <th>삼성</th>\n",
       "      <td>2000</td>\n",
       "      <td>스마트폰</td>\n",
       "    </tr>\n",
       "    <tr>\n",
       "      <th>현대</th>\n",
       "      <td>1000</td>\n",
       "      <td>자동차</td>\n",
       "    </tr>\n",
       "    <tr>\n",
       "      <th>네이버</th>\n",
       "      <td>500</td>\n",
       "      <td>포털</td>\n",
       "    </tr>\n",
       "  </tbody>\n",
       "</table>\n",
       "</div>"
      ],
      "text/plain": [
       "항목     주가    업종\n",
       "기업명            \n",
       "삼성   2000  스마트폰\n",
       "현대   1000   자동차\n",
       "네이버   500    포털"
      ]
     },
     "execution_count": 53,
     "metadata": {},
     "output_type": "execute_result"
    }
   ],
   "source": [
    "d[d.columns[:2]]"
   ]
  },
  {
   "cell_type": "code",
   "execution_count": 54,
   "id": "6906c2ba",
   "metadata": {},
   "outputs": [
    {
     "data": {
      "text/plain": [
       "기업명\n",
       "삼성      True\n",
       "현대      True\n",
       "네이버    False\n",
       "Name: 발행주식수, dtype: bool"
      ]
     },
     "execution_count": 54,
     "metadata": {},
     "output_type": "execute_result"
    }
   ],
   "source": [
    "# Boolean 인덱싱\n",
    "d['발행주식수'] >= 15000"
   ]
  },
  {
   "cell_type": "code",
   "execution_count": 55,
   "id": "e2e67778",
   "metadata": {},
   "outputs": [
    {
     "data": {
      "text/html": [
       "<div>\n",
       "<style scoped>\n",
       "    .dataframe tbody tr th:only-of-type {\n",
       "        vertical-align: middle;\n",
       "    }\n",
       "\n",
       "    .dataframe tbody tr th {\n",
       "        vertical-align: top;\n",
       "    }\n",
       "\n",
       "    .dataframe thead th {\n",
       "        text-align: right;\n",
       "    }\n",
       "</style>\n",
       "<table border=\"1\" class=\"dataframe\">\n",
       "  <thead>\n",
       "    <tr style=\"text-align: right;\">\n",
       "      <th>항목</th>\n",
       "      <th>주가</th>\n",
       "      <th>업종</th>\n",
       "      <th>발행주식수</th>\n",
       "    </tr>\n",
       "    <tr>\n",
       "      <th>기업명</th>\n",
       "      <th></th>\n",
       "      <th></th>\n",
       "      <th></th>\n",
       "    </tr>\n",
       "  </thead>\n",
       "  <tbody>\n",
       "    <tr>\n",
       "      <th>삼성</th>\n",
       "      <td>2000</td>\n",
       "      <td>스마트폰</td>\n",
       "      <td>30000</td>\n",
       "    </tr>\n",
       "    <tr>\n",
       "      <th>현대</th>\n",
       "      <td>1000</td>\n",
       "      <td>자동차</td>\n",
       "      <td>20000</td>\n",
       "    </tr>\n",
       "  </tbody>\n",
       "</table>\n",
       "</div>"
      ],
      "text/plain": [
       "항목     주가    업종  발행주식수\n",
       "기업명                   \n",
       "삼성   2000  스마트폰  30000\n",
       "현대   1000   자동차  20000"
      ]
     },
     "execution_count": 55,
     "metadata": {},
     "output_type": "execute_result"
    }
   ],
   "source": [
    "d[d['발행주식수'] >= 15000]"
   ]
  },
  {
   "cell_type": "code",
   "execution_count": 56,
   "id": "706b6f1d",
   "metadata": {},
   "outputs": [
    {
     "data": {
      "text/plain": [
       "기업명\n",
       "삼성     False\n",
       "현대      True\n",
       "네이버     True\n",
       "Name: 주가, dtype: bool"
      ]
     },
     "execution_count": 56,
     "metadata": {},
     "output_type": "execute_result"
    }
   ],
   "source": [
    "d['주가'] < 1500"
   ]
  },
  {
   "cell_type": "code",
   "execution_count": 57,
   "id": "6166cc00",
   "metadata": {},
   "outputs": [
    {
     "data": {
      "text/html": [
       "<div>\n",
       "<style scoped>\n",
       "    .dataframe tbody tr th:only-of-type {\n",
       "        vertical-align: middle;\n",
       "    }\n",
       "\n",
       "    .dataframe tbody tr th {\n",
       "        vertical-align: top;\n",
       "    }\n",
       "\n",
       "    .dataframe thead th {\n",
       "        text-align: right;\n",
       "    }\n",
       "</style>\n",
       "<table border=\"1\" class=\"dataframe\">\n",
       "  <thead>\n",
       "    <tr style=\"text-align: right;\">\n",
       "      <th>항목</th>\n",
       "      <th>주가</th>\n",
       "      <th>업종</th>\n",
       "      <th>발행주식수</th>\n",
       "    </tr>\n",
       "    <tr>\n",
       "      <th>기업명</th>\n",
       "      <th></th>\n",
       "      <th></th>\n",
       "      <th></th>\n",
       "    </tr>\n",
       "  </thead>\n",
       "  <tbody>\n",
       "    <tr>\n",
       "      <th>현대</th>\n",
       "      <td>1000</td>\n",
       "      <td>자동차</td>\n",
       "      <td>20000</td>\n",
       "    </tr>\n",
       "    <tr>\n",
       "      <th>네이버</th>\n",
       "      <td>500</td>\n",
       "      <td>포털</td>\n",
       "      <td>10000</td>\n",
       "    </tr>\n",
       "  </tbody>\n",
       "</table>\n",
       "</div>"
      ],
      "text/plain": [
       "항목     주가   업종  발행주식수\n",
       "기업명                  \n",
       "현대   1000  자동차  20000\n",
       "네이버   500   포털  10000"
      ]
     },
     "execution_count": 57,
     "metadata": {},
     "output_type": "execute_result"
    }
   ],
   "source": [
    "d[d['주가'] < 1500]"
   ]
  },
  {
   "cell_type": "code",
   "execution_count": 58,
   "id": "d1adeabe",
   "metadata": {},
   "outputs": [
    {
     "data": {
      "text/html": [
       "<div>\n",
       "<style scoped>\n",
       "    .dataframe tbody tr th:only-of-type {\n",
       "        vertical-align: middle;\n",
       "    }\n",
       "\n",
       "    .dataframe tbody tr th {\n",
       "        vertical-align: top;\n",
       "    }\n",
       "\n",
       "    .dataframe thead th {\n",
       "        text-align: right;\n",
       "    }\n",
       "</style>\n",
       "<table border=\"1\" class=\"dataframe\">\n",
       "  <thead>\n",
       "    <tr style=\"text-align: right;\">\n",
       "      <th>항목</th>\n",
       "      <th>주가</th>\n",
       "      <th>업종</th>\n",
       "      <th>발행주식수</th>\n",
       "    </tr>\n",
       "    <tr>\n",
       "      <th>기업명</th>\n",
       "      <th></th>\n",
       "      <th></th>\n",
       "      <th></th>\n",
       "    </tr>\n",
       "  </thead>\n",
       "  <tbody>\n",
       "    <tr>\n",
       "      <th>삼성</th>\n",
       "      <td>2000</td>\n",
       "      <td>스마트폰</td>\n",
       "      <td>30000</td>\n",
       "    </tr>\n",
       "    <tr>\n",
       "      <th>현대</th>\n",
       "      <td>1000</td>\n",
       "      <td>자동차</td>\n",
       "      <td>20000</td>\n",
       "    </tr>\n",
       "    <tr>\n",
       "      <th>네이버</th>\n",
       "      <td>500</td>\n",
       "      <td>포털</td>\n",
       "      <td>10000</td>\n",
       "    </tr>\n",
       "  </tbody>\n",
       "</table>\n",
       "</div>"
      ],
      "text/plain": [
       "항목     주가    업종  발행주식수\n",
       "기업명                   \n",
       "삼성   2000  스마트폰  30000\n",
       "현대   1000   자동차  20000\n",
       "네이버   500    포털  10000"
      ]
     },
     "execution_count": 58,
     "metadata": {},
     "output_type": "execute_result"
    }
   ],
   "source": [
    "# loc 슬라이싱\n",
    "d"
   ]
  },
  {
   "cell_type": "code",
   "execution_count": 59,
   "id": "2fb7b3f4",
   "metadata": {},
   "outputs": [
    {
     "data": {
      "text/html": [
       "<div>\n",
       "<style scoped>\n",
       "    .dataframe tbody tr th:only-of-type {\n",
       "        vertical-align: middle;\n",
       "    }\n",
       "\n",
       "    .dataframe tbody tr th {\n",
       "        vertical-align: top;\n",
       "    }\n",
       "\n",
       "    .dataframe thead th {\n",
       "        text-align: right;\n",
       "    }\n",
       "</style>\n",
       "<table border=\"1\" class=\"dataframe\">\n",
       "  <thead>\n",
       "    <tr style=\"text-align: right;\">\n",
       "      <th>항목</th>\n",
       "      <th>주가</th>\n",
       "      <th>업종</th>\n",
       "      <th>발행주식수</th>\n",
       "    </tr>\n",
       "    <tr>\n",
       "      <th>기업명</th>\n",
       "      <th></th>\n",
       "      <th></th>\n",
       "      <th></th>\n",
       "    </tr>\n",
       "  </thead>\n",
       "  <tbody>\n",
       "    <tr>\n",
       "      <th>삼성</th>\n",
       "      <td>2000</td>\n",
       "      <td>스마트폰</td>\n",
       "      <td>30000</td>\n",
       "    </tr>\n",
       "    <tr>\n",
       "      <th>현대</th>\n",
       "      <td>1000</td>\n",
       "      <td>자동차</td>\n",
       "      <td>20000</td>\n",
       "    </tr>\n",
       "  </tbody>\n",
       "</table>\n",
       "</div>"
      ],
      "text/plain": [
       "항목     주가    업종  발행주식수\n",
       "기업명                   \n",
       "삼성   2000  스마트폰  30000\n",
       "현대   1000   자동차  20000"
      ]
     },
     "execution_count": 59,
     "metadata": {},
     "output_type": "execute_result"
    }
   ],
   "source": [
    "d.loc['삼성':'현대']"
   ]
  },
  {
   "cell_type": "code",
   "execution_count": 60,
   "id": "dfbeb06e",
   "metadata": {},
   "outputs": [
    {
     "data": {
      "text/html": [
       "<div>\n",
       "<style scoped>\n",
       "    .dataframe tbody tr th:only-of-type {\n",
       "        vertical-align: middle;\n",
       "    }\n",
       "\n",
       "    .dataframe tbody tr th {\n",
       "        vertical-align: top;\n",
       "    }\n",
       "\n",
       "    .dataframe thead th {\n",
       "        text-align: right;\n",
       "    }\n",
       "</style>\n",
       "<table border=\"1\" class=\"dataframe\">\n",
       "  <thead>\n",
       "    <tr style=\"text-align: right;\">\n",
       "      <th>항목</th>\n",
       "      <th>주가</th>\n",
       "      <th>업종</th>\n",
       "      <th>발행주식수</th>\n",
       "    </tr>\n",
       "    <tr>\n",
       "      <th>기업명</th>\n",
       "      <th></th>\n",
       "      <th></th>\n",
       "      <th></th>\n",
       "    </tr>\n",
       "  </thead>\n",
       "  <tbody>\n",
       "    <tr>\n",
       "      <th>삼성</th>\n",
       "      <td>2000</td>\n",
       "      <td>스마트폰</td>\n",
       "      <td>30000</td>\n",
       "    </tr>\n",
       "    <tr>\n",
       "      <th>현대</th>\n",
       "      <td>1000</td>\n",
       "      <td>자동차</td>\n",
       "      <td>20000</td>\n",
       "    </tr>\n",
       "  </tbody>\n",
       "</table>\n",
       "</div>"
      ],
      "text/plain": [
       "항목     주가    업종  발행주식수\n",
       "기업명                   \n",
       "삼성   2000  스마트폰  30000\n",
       "현대   1000   자동차  20000"
      ]
     },
     "execution_count": 60,
     "metadata": {},
     "output_type": "execute_result"
    }
   ],
   "source": [
    "d.iloc[:2]"
   ]
  },
  {
   "cell_type": "code",
   "execution_count": 61,
   "id": "dfa45ce0",
   "metadata": {},
   "outputs": [
    {
     "data": {
      "text/html": [
       "<div>\n",
       "<style scoped>\n",
       "    .dataframe tbody tr th:only-of-type {\n",
       "        vertical-align: middle;\n",
       "    }\n",
       "\n",
       "    .dataframe tbody tr th {\n",
       "        vertical-align: top;\n",
       "    }\n",
       "\n",
       "    .dataframe thead th {\n",
       "        text-align: right;\n",
       "    }\n",
       "</style>\n",
       "<table border=\"1\" class=\"dataframe\">\n",
       "  <thead>\n",
       "    <tr style=\"text-align: right;\">\n",
       "      <th>항목</th>\n",
       "      <th>주가</th>\n",
       "      <th>업종</th>\n",
       "      <th>발행주식수</th>\n",
       "    </tr>\n",
       "    <tr>\n",
       "      <th>기업명</th>\n",
       "      <th></th>\n",
       "      <th></th>\n",
       "      <th></th>\n",
       "    </tr>\n",
       "  </thead>\n",
       "  <tbody>\n",
       "    <tr>\n",
       "      <th>삼성</th>\n",
       "      <td>2000</td>\n",
       "      <td>스마트폰</td>\n",
       "      <td>30000</td>\n",
       "    </tr>\n",
       "    <tr>\n",
       "      <th>현대</th>\n",
       "      <td>1000</td>\n",
       "      <td>자동차</td>\n",
       "      <td>20000</td>\n",
       "    </tr>\n",
       "    <tr>\n",
       "      <th>네이버</th>\n",
       "      <td>500</td>\n",
       "      <td>포털</td>\n",
       "      <td>10000</td>\n",
       "    </tr>\n",
       "  </tbody>\n",
       "</table>\n",
       "</div>"
      ],
      "text/plain": [
       "항목     주가    업종  발행주식수\n",
       "기업명                   \n",
       "삼성   2000  스마트폰  30000\n",
       "현대   1000   자동차  20000\n",
       "네이버   500    포털  10000"
      ]
     },
     "execution_count": 61,
     "metadata": {},
     "output_type": "execute_result"
    }
   ],
   "source": [
    "# 스마트폰 슬라이싱으로 갖고오기\n",
    "d"
   ]
  },
  {
   "cell_type": "code",
   "execution_count": 62,
   "id": "241e595e",
   "metadata": {},
   "outputs": [
    {
     "data": {
      "text/plain": [
       "기업명\n",
       "삼성    스마트폰\n",
       "현대     자동차\n",
       "Name: 업종, dtype: object"
      ]
     },
     "execution_count": 62,
     "metadata": {},
     "output_type": "execute_result"
    }
   ],
   "source": [
    "d.loc['삼성':'현대', '업종']"
   ]
  },
  {
   "cell_type": "code",
   "execution_count": 63,
   "id": "5f4b9589",
   "metadata": {},
   "outputs": [
    {
     "data": {
      "text/html": [
       "<div>\n",
       "<style scoped>\n",
       "    .dataframe tbody tr th:only-of-type {\n",
       "        vertical-align: middle;\n",
       "    }\n",
       "\n",
       "    .dataframe tbody tr th {\n",
       "        vertical-align: top;\n",
       "    }\n",
       "\n",
       "    .dataframe thead th {\n",
       "        text-align: right;\n",
       "    }\n",
       "</style>\n",
       "<table border=\"1\" class=\"dataframe\">\n",
       "  <thead>\n",
       "    <tr style=\"text-align: right;\">\n",
       "      <th>항목</th>\n",
       "      <th>업종</th>\n",
       "      <th>발행주식수</th>\n",
       "    </tr>\n",
       "    <tr>\n",
       "      <th>기업명</th>\n",
       "      <th></th>\n",
       "      <th></th>\n",
       "    </tr>\n",
       "  </thead>\n",
       "  <tbody>\n",
       "    <tr>\n",
       "      <th>삼성</th>\n",
       "      <td>스마트폰</td>\n",
       "      <td>30000</td>\n",
       "    </tr>\n",
       "    <tr>\n",
       "      <th>현대</th>\n",
       "      <td>자동차</td>\n",
       "      <td>20000</td>\n",
       "    </tr>\n",
       "  </tbody>\n",
       "</table>\n",
       "</div>"
      ],
      "text/plain": [
       "항목     업종  발행주식수\n",
       "기업명             \n",
       "삼성   스마트폰  30000\n",
       "현대    자동차  20000"
      ]
     },
     "execution_count": 63,
     "metadata": {},
     "output_type": "execute_result"
    }
   ],
   "source": [
    "d.loc['삼성':'현대', '업종':'발행주식수']"
   ]
  },
  {
   "cell_type": "code",
   "execution_count": 64,
   "id": "40f3a916",
   "metadata": {},
   "outputs": [
    {
     "data": {
      "text/html": [
       "<div>\n",
       "<style scoped>\n",
       "    .dataframe tbody tr th:only-of-type {\n",
       "        vertical-align: middle;\n",
       "    }\n",
       "\n",
       "    .dataframe tbody tr th {\n",
       "        vertical-align: top;\n",
       "    }\n",
       "\n",
       "    .dataframe thead th {\n",
       "        text-align: right;\n",
       "    }\n",
       "</style>\n",
       "<table border=\"1\" class=\"dataframe\">\n",
       "  <thead>\n",
       "    <tr style=\"text-align: right;\">\n",
       "      <th>항목</th>\n",
       "      <th>업종</th>\n",
       "      <th>발행주식수</th>\n",
       "    </tr>\n",
       "    <tr>\n",
       "      <th>기업명</th>\n",
       "      <th></th>\n",
       "      <th></th>\n",
       "    </tr>\n",
       "  </thead>\n",
       "  <tbody>\n",
       "    <tr>\n",
       "      <th>삼성</th>\n",
       "      <td>스마트폰</td>\n",
       "      <td>30000</td>\n",
       "    </tr>\n",
       "    <tr>\n",
       "      <th>현대</th>\n",
       "      <td>자동차</td>\n",
       "      <td>20000</td>\n",
       "    </tr>\n",
       "  </tbody>\n",
       "</table>\n",
       "</div>"
      ],
      "text/plain": [
       "항목     업종  발행주식수\n",
       "기업명             \n",
       "삼성   스마트폰  30000\n",
       "현대    자동차  20000"
      ]
     },
     "execution_count": 64,
     "metadata": {},
     "output_type": "execute_result"
    }
   ],
   "source": [
    "d.iloc[:2, 1:]"
   ]
  },
  {
   "cell_type": "markdown",
   "id": "d1b0116d",
   "metadata": {},
   "source": [
    "## 3-3. DataFrame 데이터 CRUD"
   ]
  },
  {
   "cell_type": "code",
   "execution_count": 65,
   "id": "e069d286",
   "metadata": {},
   "outputs": [],
   "source": [
    "# 행 데이터 추가\n",
    "# d = d.append({'주가': 1500, '업종': '메모리', '발행주식수': 15000}, ignore_index=True)\n",
    "# d"
   ]
  },
  {
   "cell_type": "code",
   "execution_count": 66,
   "id": "c2490183",
   "metadata": {},
   "outputs": [
    {
     "data": {
      "text/html": [
       "<div>\n",
       "<style scoped>\n",
       "    .dataframe tbody tr th:only-of-type {\n",
       "        vertical-align: middle;\n",
       "    }\n",
       "\n",
       "    .dataframe tbody tr th {\n",
       "        vertical-align: top;\n",
       "    }\n",
       "\n",
       "    .dataframe thead th {\n",
       "        text-align: right;\n",
       "    }\n",
       "</style>\n",
       "<table border=\"1\" class=\"dataframe\">\n",
       "  <thead>\n",
       "    <tr style=\"text-align: right;\">\n",
       "      <th></th>\n",
       "      <th>주가</th>\n",
       "      <th>업종</th>\n",
       "      <th>발행주식수</th>\n",
       "    </tr>\n",
       "  </thead>\n",
       "  <tbody>\n",
       "    <tr>\n",
       "      <th>SK</th>\n",
       "      <td>1500</td>\n",
       "      <td>메모리</td>\n",
       "      <td>15000</td>\n",
       "    </tr>\n",
       "  </tbody>\n",
       "</table>\n",
       "</div>"
      ],
      "text/plain": [
       "      주가   업종  발행주식수\n",
       "SK  1500  메모리  15000"
      ]
     },
     "execution_count": 66,
     "metadata": {},
     "output_type": "execute_result"
    }
   ],
   "source": [
    "data2 = {'주가': 1500, '업종': '메모리', '발행주식수': 15000}\n",
    "index2 = ['SK']\n",
    "d2 = pd.DataFrame(data=data2, index=index2)\n",
    "d2"
   ]
  },
  {
   "cell_type": "code",
   "execution_count": 67,
   "id": "a56d8422",
   "metadata": {},
   "outputs": [
    {
     "data": {
      "text/html": [
       "<div>\n",
       "<style scoped>\n",
       "    .dataframe tbody tr th:only-of-type {\n",
       "        vertical-align: middle;\n",
       "    }\n",
       "\n",
       "    .dataframe tbody tr th {\n",
       "        vertical-align: top;\n",
       "    }\n",
       "\n",
       "    .dataframe thead th {\n",
       "        text-align: right;\n",
       "    }\n",
       "</style>\n",
       "<table border=\"1\" class=\"dataframe\">\n",
       "  <thead>\n",
       "    <tr style=\"text-align: right;\">\n",
       "      <th></th>\n",
       "      <th>주가</th>\n",
       "      <th>업종</th>\n",
       "      <th>발행주식수</th>\n",
       "    </tr>\n",
       "  </thead>\n",
       "  <tbody>\n",
       "    <tr>\n",
       "      <th>삼성</th>\n",
       "      <td>2000</td>\n",
       "      <td>스마트폰</td>\n",
       "      <td>30000</td>\n",
       "    </tr>\n",
       "    <tr>\n",
       "      <th>현대</th>\n",
       "      <td>1000</td>\n",
       "      <td>자동차</td>\n",
       "      <td>20000</td>\n",
       "    </tr>\n",
       "    <tr>\n",
       "      <th>네이버</th>\n",
       "      <td>500</td>\n",
       "      <td>포털</td>\n",
       "      <td>10000</td>\n",
       "    </tr>\n",
       "    <tr>\n",
       "      <th>SK</th>\n",
       "      <td>1500</td>\n",
       "      <td>메모리</td>\n",
       "      <td>15000</td>\n",
       "    </tr>\n",
       "  </tbody>\n",
       "</table>\n",
       "</div>"
      ],
      "text/plain": [
       "       주가    업종  발행주식수\n",
       "삼성   2000  스마트폰  30000\n",
       "현대   1000   자동차  20000\n",
       "네이버   500    포털  10000\n",
       "SK   1500   메모리  15000"
      ]
     },
     "execution_count": 67,
     "metadata": {},
     "output_type": "execute_result"
    }
   ],
   "source": [
    "# 행 추가 1 (append)\n",
    "d = d.append(d2)\n",
    "d"
   ]
  },
  {
   "cell_type": "code",
   "execution_count": 68,
   "id": "00c206b2",
   "metadata": {},
   "outputs": [
    {
     "data": {
      "text/html": [
       "<div>\n",
       "<style scoped>\n",
       "    .dataframe tbody tr th:only-of-type {\n",
       "        vertical-align: middle;\n",
       "    }\n",
       "\n",
       "    .dataframe tbody tr th {\n",
       "        vertical-align: top;\n",
       "    }\n",
       "\n",
       "    .dataframe thead th {\n",
       "        text-align: right;\n",
       "    }\n",
       "</style>\n",
       "<table border=\"1\" class=\"dataframe\">\n",
       "  <thead>\n",
       "    <tr style=\"text-align: right;\">\n",
       "      <th></th>\n",
       "      <th>주가</th>\n",
       "      <th>업종</th>\n",
       "      <th>발행주식수</th>\n",
       "    </tr>\n",
       "  </thead>\n",
       "  <tbody>\n",
       "    <tr>\n",
       "      <th>삼성</th>\n",
       "      <td>2000</td>\n",
       "      <td>스마트폰</td>\n",
       "      <td>30000</td>\n",
       "    </tr>\n",
       "    <tr>\n",
       "      <th>현대</th>\n",
       "      <td>1000</td>\n",
       "      <td>자동차</td>\n",
       "      <td>20000</td>\n",
       "    </tr>\n",
       "    <tr>\n",
       "      <th>네이버</th>\n",
       "      <td>500</td>\n",
       "      <td>포털</td>\n",
       "      <td>10000</td>\n",
       "    </tr>\n",
       "    <tr>\n",
       "      <th>SK</th>\n",
       "      <td>1500</td>\n",
       "      <td>메모리</td>\n",
       "      <td>15000</td>\n",
       "    </tr>\n",
       "    <tr>\n",
       "      <th>SK</th>\n",
       "      <td>1500</td>\n",
       "      <td>메모리</td>\n",
       "      <td>15000</td>\n",
       "    </tr>\n",
       "  </tbody>\n",
       "</table>\n",
       "</div>"
      ],
      "text/plain": [
       "       주가    업종  발행주식수\n",
       "삼성   2000  스마트폰  30000\n",
       "현대   1000   자동차  20000\n",
       "네이버   500    포털  10000\n",
       "SK   1500   메모리  15000\n",
       "SK   1500   메모리  15000"
      ]
     },
     "execution_count": 68,
     "metadata": {},
     "output_type": "execute_result"
    }
   ],
   "source": [
    "# 행 추가 2 (concat)\n",
    "d = pd.concat([d, d2])\n",
    "d"
   ]
  },
  {
   "cell_type": "code",
   "execution_count": 69,
   "id": "9d2033a4",
   "metadata": {},
   "outputs": [
    {
     "data": {
      "text/html": [
       "<div>\n",
       "<style scoped>\n",
       "    .dataframe tbody tr th:only-of-type {\n",
       "        vertical-align: middle;\n",
       "    }\n",
       "\n",
       "    .dataframe tbody tr th {\n",
       "        vertical-align: top;\n",
       "    }\n",
       "\n",
       "    .dataframe thead th {\n",
       "        text-align: right;\n",
       "    }\n",
       "</style>\n",
       "<table border=\"1\" class=\"dataframe\">\n",
       "  <thead>\n",
       "    <tr style=\"text-align: right;\">\n",
       "      <th></th>\n",
       "      <th>주가</th>\n",
       "      <th>업종</th>\n",
       "      <th>발행주식수</th>\n",
       "    </tr>\n",
       "  </thead>\n",
       "  <tbody>\n",
       "    <tr>\n",
       "      <th>삼성</th>\n",
       "      <td>2000</td>\n",
       "      <td>스마트폰</td>\n",
       "      <td>30000</td>\n",
       "    </tr>\n",
       "    <tr>\n",
       "      <th>현대</th>\n",
       "      <td>1000</td>\n",
       "      <td>자동차</td>\n",
       "      <td>20000</td>\n",
       "    </tr>\n",
       "    <tr>\n",
       "      <th>네이버</th>\n",
       "      <td>500</td>\n",
       "      <td>포털</td>\n",
       "      <td>10000</td>\n",
       "    </tr>\n",
       "    <tr>\n",
       "      <th>SK</th>\n",
       "      <td>1500</td>\n",
       "      <td>메모리</td>\n",
       "      <td>15000</td>\n",
       "    </tr>\n",
       "    <tr>\n",
       "      <th>SK</th>\n",
       "      <td>1500</td>\n",
       "      <td>메모리</td>\n",
       "      <td>15000</td>\n",
       "    </tr>\n",
       "    <tr>\n",
       "      <th>카카오</th>\n",
       "      <td>1500</td>\n",
       "      <td>IT서비스업</td>\n",
       "      <td>15000</td>\n",
       "    </tr>\n",
       "  </tbody>\n",
       "</table>\n",
       "</div>"
      ],
      "text/plain": [
       "       주가      업종  발행주식수\n",
       "삼성   2000    스마트폰  30000\n",
       "현대   1000     자동차  20000\n",
       "네이버   500      포털  10000\n",
       "SK   1500     메모리  15000\n",
       "SK   1500     메모리  15000\n",
       "카카오  1500  IT서비스업  15000"
      ]
     },
     "execution_count": 69,
     "metadata": {},
     "output_type": "execute_result"
    }
   ],
   "source": [
    "# 행 추가 3 (loc)\n",
    "d.loc['카카오'] = [1500, 'IT서비스업', 15000]\n",
    "d"
   ]
  },
  {
   "cell_type": "code",
   "execution_count": 70,
   "id": "a8554bed",
   "metadata": {},
   "outputs": [
    {
     "data": {
      "text/html": [
       "<div>\n",
       "<style scoped>\n",
       "    .dataframe tbody tr th:only-of-type {\n",
       "        vertical-align: middle;\n",
       "    }\n",
       "\n",
       "    .dataframe tbody tr th {\n",
       "        vertical-align: top;\n",
       "    }\n",
       "\n",
       "    .dataframe thead th {\n",
       "        text-align: right;\n",
       "    }\n",
       "</style>\n",
       "<table border=\"1\" class=\"dataframe\">\n",
       "  <thead>\n",
       "    <tr style=\"text-align: right;\">\n",
       "      <th></th>\n",
       "      <th>주가</th>\n",
       "      <th>업종</th>\n",
       "      <th>발행주식수</th>\n",
       "      <th>시가총액</th>\n",
       "    </tr>\n",
       "  </thead>\n",
       "  <tbody>\n",
       "    <tr>\n",
       "      <th>삼성</th>\n",
       "      <td>2000</td>\n",
       "      <td>스마트폰</td>\n",
       "      <td>30000</td>\n",
       "      <td>60000000</td>\n",
       "    </tr>\n",
       "    <tr>\n",
       "      <th>현대</th>\n",
       "      <td>1000</td>\n",
       "      <td>자동차</td>\n",
       "      <td>20000</td>\n",
       "      <td>20000000</td>\n",
       "    </tr>\n",
       "    <tr>\n",
       "      <th>네이버</th>\n",
       "      <td>500</td>\n",
       "      <td>포털</td>\n",
       "      <td>10000</td>\n",
       "      <td>5000000</td>\n",
       "    </tr>\n",
       "    <tr>\n",
       "      <th>SK</th>\n",
       "      <td>1500</td>\n",
       "      <td>메모리</td>\n",
       "      <td>15000</td>\n",
       "      <td>22500000</td>\n",
       "    </tr>\n",
       "    <tr>\n",
       "      <th>SK</th>\n",
       "      <td>1500</td>\n",
       "      <td>메모리</td>\n",
       "      <td>15000</td>\n",
       "      <td>22500000</td>\n",
       "    </tr>\n",
       "    <tr>\n",
       "      <th>카카오</th>\n",
       "      <td>1500</td>\n",
       "      <td>IT서비스업</td>\n",
       "      <td>15000</td>\n",
       "      <td>22500000</td>\n",
       "    </tr>\n",
       "  </tbody>\n",
       "</table>\n",
       "</div>"
      ],
      "text/plain": [
       "       주가      업종  발행주식수      시가총액\n",
       "삼성   2000    스마트폰  30000  60000000\n",
       "현대   1000     자동차  20000  20000000\n",
       "네이버   500      포털  10000   5000000\n",
       "SK   1500     메모리  15000  22500000\n",
       "SK   1500     메모리  15000  22500000\n",
       "카카오  1500  IT서비스업  15000  22500000"
      ]
     },
     "execution_count": 70,
     "metadata": {},
     "output_type": "execute_result"
    }
   ],
   "source": [
    "# 열 추가\n",
    "d['시가총액'] = d['주가'] * d['발행주식수']\n",
    "d"
   ]
  },
  {
   "cell_type": "code",
   "execution_count": 71,
   "id": "673465bf",
   "metadata": {},
   "outputs": [
    {
     "data": {
      "text/html": [
       "<div>\n",
       "<style scoped>\n",
       "    .dataframe tbody tr th:only-of-type {\n",
       "        vertical-align: middle;\n",
       "    }\n",
       "\n",
       "    .dataframe tbody tr th {\n",
       "        vertical-align: top;\n",
       "    }\n",
       "\n",
       "    .dataframe thead th {\n",
       "        text-align: right;\n",
       "    }\n",
       "</style>\n",
       "<table border=\"1\" class=\"dataframe\">\n",
       "  <thead>\n",
       "    <tr style=\"text-align: right;\">\n",
       "      <th></th>\n",
       "      <th>주가</th>\n",
       "      <th>업종</th>\n",
       "      <th>발행주식수</th>\n",
       "      <th>시가총액</th>\n",
       "    </tr>\n",
       "  </thead>\n",
       "  <tbody>\n",
       "    <tr>\n",
       "      <th>삼성</th>\n",
       "      <td>2000</td>\n",
       "      <td>스마트폰</td>\n",
       "      <td>30000</td>\n",
       "      <td>60000000</td>\n",
       "    </tr>\n",
       "    <tr>\n",
       "      <th>현대</th>\n",
       "      <td>1000</td>\n",
       "      <td>자동차</td>\n",
       "      <td>20000</td>\n",
       "      <td>20000000</td>\n",
       "    </tr>\n",
       "    <tr>\n",
       "      <th>네이버</th>\n",
       "      <td>1000</td>\n",
       "      <td>IT서비스업</td>\n",
       "      <td>15000</td>\n",
       "      <td>15000000</td>\n",
       "    </tr>\n",
       "    <tr>\n",
       "      <th>SK</th>\n",
       "      <td>1500</td>\n",
       "      <td>메모리</td>\n",
       "      <td>15000</td>\n",
       "      <td>22500000</td>\n",
       "    </tr>\n",
       "    <tr>\n",
       "      <th>SK</th>\n",
       "      <td>1500</td>\n",
       "      <td>메모리</td>\n",
       "      <td>15000</td>\n",
       "      <td>22500000</td>\n",
       "    </tr>\n",
       "    <tr>\n",
       "      <th>카카오</th>\n",
       "      <td>1500</td>\n",
       "      <td>IT서비스업</td>\n",
       "      <td>15000</td>\n",
       "      <td>22500000</td>\n",
       "    </tr>\n",
       "  </tbody>\n",
       "</table>\n",
       "</div>"
      ],
      "text/plain": [
       "       주가      업종  발행주식수      시가총액\n",
       "삼성   2000    스마트폰  30000  60000000\n",
       "현대   1000     자동차  20000  20000000\n",
       "네이버  1000  IT서비스업  15000  15000000\n",
       "SK   1500     메모리  15000  22500000\n",
       "SK   1500     메모리  15000  22500000\n",
       "카카오  1500  IT서비스업  15000  22500000"
      ]
     },
     "execution_count": 71,
     "metadata": {},
     "output_type": "execute_result"
    }
   ],
   "source": [
    "# 전체 행 데이터 변경\n",
    "d.loc['네이버'] = [1000, 'IT서비스업', 15000, 1000*15000]\n",
    "d"
   ]
  },
  {
   "cell_type": "code",
   "execution_count": 72,
   "id": "379b3d07",
   "metadata": {},
   "outputs": [
    {
     "data": {
      "text/html": [
       "<div>\n",
       "<style scoped>\n",
       "    .dataframe tbody tr th:only-of-type {\n",
       "        vertical-align: middle;\n",
       "    }\n",
       "\n",
       "    .dataframe tbody tr th {\n",
       "        vertical-align: top;\n",
       "    }\n",
       "\n",
       "    .dataframe thead th {\n",
       "        text-align: right;\n",
       "    }\n",
       "</style>\n",
       "<table border=\"1\" class=\"dataframe\">\n",
       "  <thead>\n",
       "    <tr style=\"text-align: right;\">\n",
       "      <th></th>\n",
       "      <th>주가</th>\n",
       "      <th>업종</th>\n",
       "      <th>발행주식수</th>\n",
       "      <th>시가총액</th>\n",
       "    </tr>\n",
       "  </thead>\n",
       "  <tbody>\n",
       "    <tr>\n",
       "      <th>삼성</th>\n",
       "      <td>2500</td>\n",
       "      <td>스마트폰</td>\n",
       "      <td>30000</td>\n",
       "      <td>60000000</td>\n",
       "    </tr>\n",
       "    <tr>\n",
       "      <th>현대</th>\n",
       "      <td>1500</td>\n",
       "      <td>자동차</td>\n",
       "      <td>20000</td>\n",
       "      <td>20000000</td>\n",
       "    </tr>\n",
       "    <tr>\n",
       "      <th>네이버</th>\n",
       "      <td>1500</td>\n",
       "      <td>IT서비스업</td>\n",
       "      <td>15000</td>\n",
       "      <td>15000000</td>\n",
       "    </tr>\n",
       "    <tr>\n",
       "      <th>SK</th>\n",
       "      <td>2000</td>\n",
       "      <td>메모리</td>\n",
       "      <td>15000</td>\n",
       "      <td>22500000</td>\n",
       "    </tr>\n",
       "    <tr>\n",
       "      <th>SK</th>\n",
       "      <td>2000</td>\n",
       "      <td>메모리</td>\n",
       "      <td>15000</td>\n",
       "      <td>22500000</td>\n",
       "    </tr>\n",
       "    <tr>\n",
       "      <th>카카오</th>\n",
       "      <td>2000</td>\n",
       "      <td>IT서비스업</td>\n",
       "      <td>15000</td>\n",
       "      <td>22500000</td>\n",
       "    </tr>\n",
       "  </tbody>\n",
       "</table>\n",
       "</div>"
      ],
      "text/plain": [
       "       주가      업종  발행주식수      시가총액\n",
       "삼성   2500    스마트폰  30000  60000000\n",
       "현대   1500     자동차  20000  20000000\n",
       "네이버  1500  IT서비스업  15000  15000000\n",
       "SK   2000     메모리  15000  22500000\n",
       "SK   2000     메모리  15000  22500000\n",
       "카카오  2000  IT서비스업  15000  22500000"
      ]
     },
     "execution_count": 72,
     "metadata": {},
     "output_type": "execute_result"
    }
   ],
   "source": [
    "# 전체 열 데이터 변경\n",
    "d['주가'] += 500\n",
    "d"
   ]
  },
  {
   "cell_type": "code",
   "execution_count": 73,
   "id": "d59d091c",
   "metadata": {},
   "outputs": [
    {
     "data": {
      "text/html": [
       "<div>\n",
       "<style scoped>\n",
       "    .dataframe tbody tr th:only-of-type {\n",
       "        vertical-align: middle;\n",
       "    }\n",
       "\n",
       "    .dataframe tbody tr th {\n",
       "        vertical-align: top;\n",
       "    }\n",
       "\n",
       "    .dataframe thead th {\n",
       "        text-align: right;\n",
       "    }\n",
       "</style>\n",
       "<table border=\"1\" class=\"dataframe\">\n",
       "  <thead>\n",
       "    <tr style=\"text-align: right;\">\n",
       "      <th></th>\n",
       "      <th>주가</th>\n",
       "      <th>업종</th>\n",
       "      <th>발행주식수</th>\n",
       "      <th>시가총액</th>\n",
       "    </tr>\n",
       "  </thead>\n",
       "  <tbody>\n",
       "    <tr>\n",
       "      <th>삼성</th>\n",
       "      <td>2500</td>\n",
       "      <td>스마트폰</td>\n",
       "      <td>30000</td>\n",
       "      <td>75000000</td>\n",
       "    </tr>\n",
       "    <tr>\n",
       "      <th>현대</th>\n",
       "      <td>1500</td>\n",
       "      <td>자동차</td>\n",
       "      <td>20000</td>\n",
       "      <td>30000000</td>\n",
       "    </tr>\n",
       "    <tr>\n",
       "      <th>네이버</th>\n",
       "      <td>1500</td>\n",
       "      <td>IT서비스업</td>\n",
       "      <td>15000</td>\n",
       "      <td>22500000</td>\n",
       "    </tr>\n",
       "    <tr>\n",
       "      <th>SK</th>\n",
       "      <td>2000</td>\n",
       "      <td>메모리</td>\n",
       "      <td>15000</td>\n",
       "      <td>30000000</td>\n",
       "    </tr>\n",
       "    <tr>\n",
       "      <th>SK</th>\n",
       "      <td>2000</td>\n",
       "      <td>메모리</td>\n",
       "      <td>15000</td>\n",
       "      <td>30000000</td>\n",
       "    </tr>\n",
       "    <tr>\n",
       "      <th>카카오</th>\n",
       "      <td>2000</td>\n",
       "      <td>IT서비스업</td>\n",
       "      <td>15000</td>\n",
       "      <td>30000000</td>\n",
       "    </tr>\n",
       "  </tbody>\n",
       "</table>\n",
       "</div>"
      ],
      "text/plain": [
       "       주가      업종  발행주식수      시가총액\n",
       "삼성   2500    스마트폰  30000  75000000\n",
       "현대   1500     자동차  20000  30000000\n",
       "네이버  1500  IT서비스업  15000  22500000\n",
       "SK   2000     메모리  15000  30000000\n",
       "SK   2000     메모리  15000  30000000\n",
       "카카오  2000  IT서비스업  15000  30000000"
      ]
     },
     "execution_count": 73,
     "metadata": {},
     "output_type": "execute_result"
    }
   ],
   "source": [
    "d['시가총액'] = d['주가'] * d['발행주식수']\n",
    "d"
   ]
  },
  {
   "cell_type": "code",
   "execution_count": 74,
   "id": "c3d92972",
   "metadata": {},
   "outputs": [
    {
     "data": {
      "text/html": [
       "<div>\n",
       "<style scoped>\n",
       "    .dataframe tbody tr th:only-of-type {\n",
       "        vertical-align: middle;\n",
       "    }\n",
       "\n",
       "    .dataframe tbody tr th {\n",
       "        vertical-align: top;\n",
       "    }\n",
       "\n",
       "    .dataframe thead th {\n",
       "        text-align: right;\n",
       "    }\n",
       "</style>\n",
       "<table border=\"1\" class=\"dataframe\">\n",
       "  <thead>\n",
       "    <tr style=\"text-align: right;\">\n",
       "      <th></th>\n",
       "      <th>주가</th>\n",
       "      <th>업종</th>\n",
       "      <th>발행주식수</th>\n",
       "      <th>시가총액</th>\n",
       "    </tr>\n",
       "  </thead>\n",
       "  <tbody>\n",
       "    <tr>\n",
       "      <th>삼성</th>\n",
       "      <td>2500</td>\n",
       "      <td>스마트폰</td>\n",
       "      <td>30000</td>\n",
       "      <td>75000000</td>\n",
       "    </tr>\n",
       "    <tr>\n",
       "      <th>현대</th>\n",
       "      <td>1500</td>\n",
       "      <td>자동차</td>\n",
       "      <td>20000</td>\n",
       "      <td>30000000</td>\n",
       "    </tr>\n",
       "    <tr>\n",
       "      <th>네이버</th>\n",
       "      <td>1500</td>\n",
       "      <td>IT서비스업</td>\n",
       "      <td>15000</td>\n",
       "      <td>22500000</td>\n",
       "    </tr>\n",
       "    <tr>\n",
       "      <th>SK</th>\n",
       "      <td>2000</td>\n",
       "      <td>메모리</td>\n",
       "      <td>15000</td>\n",
       "      <td>30000000</td>\n",
       "    </tr>\n",
       "    <tr>\n",
       "      <th>SK</th>\n",
       "      <td>2000</td>\n",
       "      <td>메모리</td>\n",
       "      <td>15000</td>\n",
       "      <td>30000000</td>\n",
       "    </tr>\n",
       "    <tr>\n",
       "      <th>카카오</th>\n",
       "      <td>2000</td>\n",
       "      <td>금융업</td>\n",
       "      <td>15000</td>\n",
       "      <td>30000000</td>\n",
       "    </tr>\n",
       "  </tbody>\n",
       "</table>\n",
       "</div>"
      ],
      "text/plain": [
       "       주가      업종  발행주식수      시가총액\n",
       "삼성   2500    스마트폰  30000  75000000\n",
       "현대   1500     자동차  20000  30000000\n",
       "네이버  1500  IT서비스업  15000  22500000\n",
       "SK   2000     메모리  15000  30000000\n",
       "SK   2000     메모리  15000  30000000\n",
       "카카오  2000     금융업  15000  30000000"
      ]
     },
     "execution_count": 74,
     "metadata": {},
     "output_type": "execute_result"
    }
   ],
   "source": [
    "d.loc['카카오', '업종'] = '금융업'\n",
    "d"
   ]
  },
  {
   "cell_type": "code",
   "execution_count": 76,
   "id": "44bbbd9a",
   "metadata": {},
   "outputs": [
    {
     "data": {
      "text/html": [
       "<div>\n",
       "<style scoped>\n",
       "    .dataframe tbody tr th:only-of-type {\n",
       "        vertical-align: middle;\n",
       "    }\n",
       "\n",
       "    .dataframe tbody tr th {\n",
       "        vertical-align: top;\n",
       "    }\n",
       "\n",
       "    .dataframe thead th {\n",
       "        text-align: right;\n",
       "    }\n",
       "</style>\n",
       "<table border=\"1\" class=\"dataframe\">\n",
       "  <thead>\n",
       "    <tr style=\"text-align: right;\">\n",
       "      <th></th>\n",
       "      <th>주가</th>\n",
       "      <th>업종</th>\n",
       "      <th>발행주식수</th>\n",
       "      <th>시가총액</th>\n",
       "    </tr>\n",
       "  </thead>\n",
       "  <tbody>\n",
       "    <tr>\n",
       "      <th>삼성</th>\n",
       "      <td>2500</td>\n",
       "      <td>스마트폰</td>\n",
       "      <td>30000</td>\n",
       "      <td>75000000</td>\n",
       "    </tr>\n",
       "    <tr>\n",
       "      <th>현대</th>\n",
       "      <td>1500</td>\n",
       "      <td>자동차</td>\n",
       "      <td>20000</td>\n",
       "      <td>30000000</td>\n",
       "    </tr>\n",
       "    <tr>\n",
       "      <th>네이버</th>\n",
       "      <td>1500</td>\n",
       "      <td>IT서비스업</td>\n",
       "      <td>15000</td>\n",
       "      <td>22500000</td>\n",
       "    </tr>\n",
       "    <tr>\n",
       "      <th>카카오</th>\n",
       "      <td>2000</td>\n",
       "      <td>금융업</td>\n",
       "      <td>15000</td>\n",
       "      <td>30000000</td>\n",
       "    </tr>\n",
       "  </tbody>\n",
       "</table>\n",
       "</div>"
      ],
      "text/plain": [
       "       주가      업종  발행주식수      시가총액\n",
       "삼성   2500    스마트폰  30000  75000000\n",
       "현대   1500     자동차  20000  30000000\n",
       "네이버  1500  IT서비스업  15000  22500000\n",
       "카카오  2000     금융업  15000  30000000"
      ]
     },
     "execution_count": 76,
     "metadata": {},
     "output_type": "execute_result"
    }
   ],
   "source": [
    "# 행 삭제\n",
    "d = d.drop('SK')\n",
    "d"
   ]
  },
  {
   "cell_type": "code",
   "execution_count": 77,
   "id": "0b303883",
   "metadata": {},
   "outputs": [
    {
     "data": {
      "text/html": [
       "<div>\n",
       "<style scoped>\n",
       "    .dataframe tbody tr th:only-of-type {\n",
       "        vertical-align: middle;\n",
       "    }\n",
       "\n",
       "    .dataframe tbody tr th {\n",
       "        vertical-align: top;\n",
       "    }\n",
       "\n",
       "    .dataframe thead th {\n",
       "        text-align: right;\n",
       "    }\n",
       "</style>\n",
       "<table border=\"1\" class=\"dataframe\">\n",
       "  <thead>\n",
       "    <tr style=\"text-align: right;\">\n",
       "      <th></th>\n",
       "      <th>주가</th>\n",
       "      <th>업종</th>\n",
       "      <th>발행주식수</th>\n",
       "    </tr>\n",
       "  </thead>\n",
       "  <tbody>\n",
       "    <tr>\n",
       "      <th>삼성</th>\n",
       "      <td>2500</td>\n",
       "      <td>스마트폰</td>\n",
       "      <td>30000</td>\n",
       "    </tr>\n",
       "    <tr>\n",
       "      <th>현대</th>\n",
       "      <td>1500</td>\n",
       "      <td>자동차</td>\n",
       "      <td>20000</td>\n",
       "    </tr>\n",
       "    <tr>\n",
       "      <th>네이버</th>\n",
       "      <td>1500</td>\n",
       "      <td>IT서비스업</td>\n",
       "      <td>15000</td>\n",
       "    </tr>\n",
       "    <tr>\n",
       "      <th>카카오</th>\n",
       "      <td>2000</td>\n",
       "      <td>금융업</td>\n",
       "      <td>15000</td>\n",
       "    </tr>\n",
       "  </tbody>\n",
       "</table>\n",
       "</div>"
      ],
      "text/plain": [
       "       주가      업종  발행주식수\n",
       "삼성   2500    스마트폰  30000\n",
       "현대   1500     자동차  20000\n",
       "네이버  1500  IT서비스업  15000\n",
       "카카오  2000     금융업  15000"
      ]
     },
     "execution_count": 77,
     "metadata": {},
     "output_type": "execute_result"
    }
   ],
   "source": [
    "# 열 삭제\n",
    "d = d.drop('시가총액', axis=1)  # ['업종', '시가총액']\n",
    "d"
   ]
  },
  {
   "cell_type": "code",
   "execution_count": 78,
   "id": "da950a84",
   "metadata": {},
   "outputs": [],
   "source": [
    "# d.drop(columns='시가총액')"
   ]
  },
  {
   "cell_type": "markdown",
   "id": "973cb740",
   "metadata": {},
   "source": [
    "# 3-4. DataFrame 연산"
   ]
  },
  {
   "cell_type": "code",
   "execution_count": 80,
   "id": "1363206b",
   "metadata": {},
   "outputs": [
    {
     "data": {
      "text/html": [
       "<div>\n",
       "<style scoped>\n",
       "    .dataframe tbody tr th:only-of-type {\n",
       "        vertical-align: middle;\n",
       "    }\n",
       "\n",
       "    .dataframe tbody tr th {\n",
       "        vertical-align: top;\n",
       "    }\n",
       "\n",
       "    .dataframe thead th {\n",
       "        text-align: right;\n",
       "    }\n",
       "</style>\n",
       "<table border=\"1\" class=\"dataframe\">\n",
       "  <thead>\n",
       "    <tr style=\"text-align: right;\">\n",
       "      <th></th>\n",
       "      <th>주가</th>\n",
       "      <th>업종</th>\n",
       "      <th>발행주식수</th>\n",
       "    </tr>\n",
       "  </thead>\n",
       "  <tbody>\n",
       "    <tr>\n",
       "      <th>삼성</th>\n",
       "      <td>2500</td>\n",
       "      <td>스마트폰</td>\n",
       "      <td>30000</td>\n",
       "    </tr>\n",
       "    <tr>\n",
       "      <th>현대</th>\n",
       "      <td>1500</td>\n",
       "      <td>자동차</td>\n",
       "      <td>20000</td>\n",
       "    </tr>\n",
       "    <tr>\n",
       "      <th>네이버</th>\n",
       "      <td>1500</td>\n",
       "      <td>IT서비스업</td>\n",
       "      <td>15000</td>\n",
       "    </tr>\n",
       "    <tr>\n",
       "      <th>카카오</th>\n",
       "      <td>2000</td>\n",
       "      <td>금융업</td>\n",
       "      <td>15000</td>\n",
       "    </tr>\n",
       "  </tbody>\n",
       "</table>\n",
       "</div>"
      ],
      "text/plain": [
       "       주가      업종  발행주식수\n",
       "삼성   2500    스마트폰  30000\n",
       "현대   1500     자동차  20000\n",
       "네이버  1500  IT서비스업  15000\n",
       "카카오  2000     금융업  15000"
      ]
     },
     "execution_count": 80,
     "metadata": {},
     "output_type": "execute_result"
    }
   ],
   "source": [
    "d2 = d.copy()\n",
    "d2"
   ]
  },
  {
   "cell_type": "code",
   "execution_count": 81,
   "id": "32848df7",
   "metadata": {},
   "outputs": [
    {
     "data": {
      "text/plain": [
       "(140329090357376, 140329071338208)"
      ]
     },
     "execution_count": 81,
     "metadata": {},
     "output_type": "execute_result"
    }
   ],
   "source": [
    "id(d), id(d2)"
   ]
  },
  {
   "cell_type": "code",
   "execution_count": 82,
   "id": "a133c310",
   "metadata": {},
   "outputs": [
    {
     "data": {
      "text/html": [
       "<div>\n",
       "<style scoped>\n",
       "    .dataframe tbody tr th:only-of-type {\n",
       "        vertical-align: middle;\n",
       "    }\n",
       "\n",
       "    .dataframe tbody tr th {\n",
       "        vertical-align: top;\n",
       "    }\n",
       "\n",
       "    .dataframe thead th {\n",
       "        text-align: right;\n",
       "    }\n",
       "</style>\n",
       "<table border=\"1\" class=\"dataframe\">\n",
       "  <thead>\n",
       "    <tr style=\"text-align: right;\">\n",
       "      <th></th>\n",
       "      <th>주가</th>\n",
       "      <th>업종</th>\n",
       "      <th>발행주식수</th>\n",
       "    </tr>\n",
       "  </thead>\n",
       "  <tbody>\n",
       "    <tr>\n",
       "      <th>삼성</th>\n",
       "      <td>5000</td>\n",
       "      <td>스마트폰스마트폰</td>\n",
       "      <td>60000</td>\n",
       "    </tr>\n",
       "    <tr>\n",
       "      <th>현대</th>\n",
       "      <td>3000</td>\n",
       "      <td>자동차자동차</td>\n",
       "      <td>40000</td>\n",
       "    </tr>\n",
       "    <tr>\n",
       "      <th>네이버</th>\n",
       "      <td>3000</td>\n",
       "      <td>IT서비스업IT서비스업</td>\n",
       "      <td>30000</td>\n",
       "    </tr>\n",
       "    <tr>\n",
       "      <th>카카오</th>\n",
       "      <td>4000</td>\n",
       "      <td>금융업금융업</td>\n",
       "      <td>30000</td>\n",
       "    </tr>\n",
       "  </tbody>\n",
       "</table>\n",
       "</div>"
      ],
      "text/plain": [
       "       주가            업종  발행주식수\n",
       "삼성   5000      스마트폰스마트폰  60000\n",
       "현대   3000        자동차자동차  40000\n",
       "네이버  3000  IT서비스업IT서비스업  30000\n",
       "카카오  4000        금융업금융업  30000"
      ]
     },
     "execution_count": 82,
     "metadata": {},
     "output_type": "execute_result"
    }
   ],
   "source": [
    "d + d2"
   ]
  },
  {
   "cell_type": "code",
   "execution_count": 83,
   "id": "738f1239",
   "metadata": {},
   "outputs": [
    {
     "data": {
      "text/plain": [
       "'스마트폰스마트폰'"
      ]
     },
     "execution_count": 83,
     "metadata": {},
     "output_type": "execute_result"
    }
   ],
   "source": [
    "'스마트폰'"
   ]
  },
  {
   "cell_type": "code",
   "execution_count": 84,
   "id": "1aaaadaf",
   "metadata": {},
   "outputs": [
    {
     "data": {
      "text/html": [
       "<div>\n",
       "<style scoped>\n",
       "    .dataframe tbody tr th:only-of-type {\n",
       "        vertical-align: middle;\n",
       "    }\n",
       "\n",
       "    .dataframe tbody tr th {\n",
       "        vertical-align: top;\n",
       "    }\n",
       "\n",
       "    .dataframe thead th {\n",
       "        text-align: right;\n",
       "    }\n",
       "</style>\n",
       "<table border=\"1\" class=\"dataframe\">\n",
       "  <thead>\n",
       "    <tr style=\"text-align: right;\">\n",
       "      <th></th>\n",
       "      <th>주가</th>\n",
       "      <th>업종</th>\n",
       "      <th>발행주식수</th>\n",
       "    </tr>\n",
       "  </thead>\n",
       "  <tbody>\n",
       "    <tr>\n",
       "      <th>삼성</th>\n",
       "      <td>2500</td>\n",
       "      <td>스마트폰</td>\n",
       "      <td>30000</td>\n",
       "    </tr>\n",
       "    <tr>\n",
       "      <th>현대</th>\n",
       "      <td>1500</td>\n",
       "      <td>자동차</td>\n",
       "      <td>20000</td>\n",
       "    </tr>\n",
       "    <tr>\n",
       "      <th>네이버</th>\n",
       "      <td>1500</td>\n",
       "      <td>IT서비스업</td>\n",
       "      <td>15000</td>\n",
       "    </tr>\n",
       "    <tr>\n",
       "      <th>카카오</th>\n",
       "      <td>2000</td>\n",
       "      <td>금융업</td>\n",
       "      <td>15000</td>\n",
       "    </tr>\n",
       "    <tr>\n",
       "      <th>삼성</th>\n",
       "      <td>2500</td>\n",
       "      <td>스마트폰</td>\n",
       "      <td>30000</td>\n",
       "    </tr>\n",
       "    <tr>\n",
       "      <th>현대</th>\n",
       "      <td>1500</td>\n",
       "      <td>자동차</td>\n",
       "      <td>20000</td>\n",
       "    </tr>\n",
       "    <tr>\n",
       "      <th>네이버</th>\n",
       "      <td>1500</td>\n",
       "      <td>IT서비스업</td>\n",
       "      <td>15000</td>\n",
       "    </tr>\n",
       "    <tr>\n",
       "      <th>카카오</th>\n",
       "      <td>2000</td>\n",
       "      <td>금융업</td>\n",
       "      <td>15000</td>\n",
       "    </tr>\n",
       "  </tbody>\n",
       "</table>\n",
       "</div>"
      ],
      "text/plain": [
       "       주가      업종  발행주식수\n",
       "삼성   2500    스마트폰  30000\n",
       "현대   1500     자동차  20000\n",
       "네이버  1500  IT서비스업  15000\n",
       "카카오  2000     금융업  15000\n",
       "삼성   2500    스마트폰  30000\n",
       "현대   1500     자동차  20000\n",
       "네이버  1500  IT서비스업  15000\n",
       "카카오  2000     금융업  15000"
      ]
     },
     "execution_count": 84,
     "metadata": {},
     "output_type": "execute_result"
    }
   ],
   "source": [
    "d.append(d2)"
   ]
  },
  {
   "cell_type": "code",
   "execution_count": 85,
   "id": "8b3d5480",
   "metadata": {},
   "outputs": [
    {
     "data": {
      "text/html": [
       "<div>\n",
       "<style scoped>\n",
       "    .dataframe tbody tr th:only-of-type {\n",
       "        vertical-align: middle;\n",
       "    }\n",
       "\n",
       "    .dataframe tbody tr th {\n",
       "        vertical-align: top;\n",
       "    }\n",
       "\n",
       "    .dataframe thead th {\n",
       "        text-align: right;\n",
       "    }\n",
       "</style>\n",
       "<table border=\"1\" class=\"dataframe\">\n",
       "  <thead>\n",
       "    <tr style=\"text-align: right;\">\n",
       "      <th></th>\n",
       "      <th>주가</th>\n",
       "      <th>업종</th>\n",
       "      <th>발행주식수</th>\n",
       "    </tr>\n",
       "  </thead>\n",
       "  <tbody>\n",
       "    <tr>\n",
       "      <th>삼성</th>\n",
       "      <td>2500</td>\n",
       "      <td>스마트폰</td>\n",
       "      <td>30000</td>\n",
       "    </tr>\n",
       "    <tr>\n",
       "      <th>현대</th>\n",
       "      <td>1500</td>\n",
       "      <td>자동차</td>\n",
       "      <td>20000</td>\n",
       "    </tr>\n",
       "    <tr>\n",
       "      <th>네이버</th>\n",
       "      <td>1500</td>\n",
       "      <td>IT서비스업</td>\n",
       "      <td>15000</td>\n",
       "    </tr>\n",
       "    <tr>\n",
       "      <th>카카오</th>\n",
       "      <td>2000</td>\n",
       "      <td>금융업</td>\n",
       "      <td>15000</td>\n",
       "    </tr>\n",
       "    <tr>\n",
       "      <th>삼성</th>\n",
       "      <td>2500</td>\n",
       "      <td>스마트폰</td>\n",
       "      <td>30000</td>\n",
       "    </tr>\n",
       "    <tr>\n",
       "      <th>현대</th>\n",
       "      <td>1500</td>\n",
       "      <td>자동차</td>\n",
       "      <td>20000</td>\n",
       "    </tr>\n",
       "    <tr>\n",
       "      <th>네이버</th>\n",
       "      <td>1500</td>\n",
       "      <td>IT서비스업</td>\n",
       "      <td>15000</td>\n",
       "    </tr>\n",
       "    <tr>\n",
       "      <th>카카오</th>\n",
       "      <td>2000</td>\n",
       "      <td>금융업</td>\n",
       "      <td>15000</td>\n",
       "    </tr>\n",
       "  </tbody>\n",
       "</table>\n",
       "</div>"
      ],
      "text/plain": [
       "       주가      업종  발행주식수\n",
       "삼성   2500    스마트폰  30000\n",
       "현대   1500     자동차  20000\n",
       "네이버  1500  IT서비스업  15000\n",
       "카카오  2000     금융업  15000\n",
       "삼성   2500    스마트폰  30000\n",
       "현대   1500     자동차  20000\n",
       "네이버  1500  IT서비스업  15000\n",
       "카카오  2000     금융업  15000"
      ]
     },
     "execution_count": 85,
     "metadata": {},
     "output_type": "execute_result"
    }
   ],
   "source": [
    "pd.concat([d, d2])"
   ]
  },
  {
   "cell_type": "code",
   "execution_count": 86,
   "id": "800d42e8",
   "metadata": {},
   "outputs": [
    {
     "data": {
      "text/html": [
       "<div>\n",
       "<style scoped>\n",
       "    .dataframe tbody tr th:only-of-type {\n",
       "        vertical-align: middle;\n",
       "    }\n",
       "\n",
       "    .dataframe tbody tr th {\n",
       "        vertical-align: top;\n",
       "    }\n",
       "\n",
       "    .dataframe thead th {\n",
       "        text-align: right;\n",
       "    }\n",
       "</style>\n",
       "<table border=\"1\" class=\"dataframe\">\n",
       "  <thead>\n",
       "    <tr style=\"text-align: right;\">\n",
       "      <th></th>\n",
       "      <th>주가</th>\n",
       "      <th>업종</th>\n",
       "      <th>발행주식수</th>\n",
       "    </tr>\n",
       "  </thead>\n",
       "  <tbody>\n",
       "    <tr>\n",
       "      <th>삼성</th>\n",
       "      <td>2500</td>\n",
       "      <td>스마트폰</td>\n",
       "      <td>30000</td>\n",
       "    </tr>\n",
       "    <tr>\n",
       "      <th>현대</th>\n",
       "      <td>1500</td>\n",
       "      <td>자동차</td>\n",
       "      <td>20000</td>\n",
       "    </tr>\n",
       "    <tr>\n",
       "      <th>네이버</th>\n",
       "      <td>1500</td>\n",
       "      <td>IT서비스업</td>\n",
       "      <td>15000</td>\n",
       "    </tr>\n",
       "    <tr>\n",
       "      <th>카카오</th>\n",
       "      <td>2000</td>\n",
       "      <td>금융업</td>\n",
       "      <td>15000</td>\n",
       "    </tr>\n",
       "  </tbody>\n",
       "</table>\n",
       "</div>"
      ],
      "text/plain": [
       "       주가      업종  발행주식수\n",
       "삼성   2500    스마트폰  30000\n",
       "현대   1500     자동차  20000\n",
       "네이버  1500  IT서비스업  15000\n",
       "카카오  2000     금융업  15000"
      ]
     },
     "execution_count": 86,
     "metadata": {},
     "output_type": "execute_result"
    }
   ],
   "source": [
    "# aggregation 함수\n",
    "d"
   ]
  },
  {
   "cell_type": "code",
   "execution_count": 87,
   "id": "9989bfba",
   "metadata": {},
   "outputs": [
    {
     "data": {
      "text/plain": [
       "주가         1500\n",
       "업종       IT서비스업\n",
       "발행주식수     15000\n",
       "dtype: object"
      ]
     },
     "execution_count": 87,
     "metadata": {},
     "output_type": "execute_result"
    }
   ],
   "source": [
    "# 각 컬럼에서 가장 작은 값\n",
    "d.min()"
   ]
  },
  {
   "cell_type": "code",
   "execution_count": 88,
   "id": "bcfda62b",
   "metadata": {},
   "outputs": [
    {
     "data": {
      "text/plain": [
       "주가        2500\n",
       "업종         자동차\n",
       "발행주식수    30000\n",
       "dtype: object"
      ]
     },
     "execution_count": 88,
     "metadata": {},
     "output_type": "execute_result"
    }
   ],
   "source": [
    "d.max()"
   ]
  },
  {
   "cell_type": "code",
   "execution_count": 89,
   "id": "bc5f1680",
   "metadata": {},
   "outputs": [
    {
     "data": {
      "text/plain": [
       "1500"
      ]
     },
     "execution_count": 89,
     "metadata": {},
     "output_type": "execute_result"
    }
   ],
   "source": [
    "d['주가'].min()"
   ]
  },
  {
   "cell_type": "code",
   "execution_count": 90,
   "id": "03761493",
   "metadata": {},
   "outputs": [
    {
     "data": {
      "text/plain": [
       "30000"
      ]
     },
     "execution_count": 90,
     "metadata": {},
     "output_type": "execute_result"
    }
   ],
   "source": [
    "d['발행주식수'].max()"
   ]
  },
  {
   "cell_type": "code",
   "execution_count": null,
   "id": "e3e323a9",
   "metadata": {},
   "outputs": [],
   "source": []
  }
 ],
 "metadata": {
  "kernelspec": {
   "display_name": "Python 3",
   "language": "python",
   "name": "python3"
  },
  "language_info": {
   "codemirror_mode": {
    "name": "ipython",
    "version": 3
   },
   "file_extension": ".py",
   "mimetype": "text/x-python",
   "name": "python",
   "nbconvert_exporter": "python",
   "pygments_lexer": "ipython3",
   "version": "3.8.10"
  }
 },
 "nbformat": 4,
 "nbformat_minor": 5
}

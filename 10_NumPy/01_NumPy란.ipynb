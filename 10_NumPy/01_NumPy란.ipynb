{
 "cells": [
  {
   "cell_type": "markdown",
   "id": "83f40763",
   "metadata": {},
   "source": [
    "# 1. NumPy란?\n",
    "\n",
    "* NumPy(Numerical Python)는 행렬이나 대규모 **다차원 배열**을 쉽게 처리할 수 있도록 만든 파이썬 라이브러리이다.\n",
    "* NumPy는 **수치 계산**을 위해 효율적인 기능을 제공한다.\n",
    "* Website: https://numpy.org\n",
    "* Source Code: https://github.com/numpy/numpy"
   ]
  },
  {
   "cell_type": "code",
   "execution_count": 1,
   "id": "e3ae6c22",
   "metadata": {},
   "outputs": [],
   "source": [
    "import numpy"
   ]
  },
  {
   "cell_type": "code",
   "execution_count": 4,
   "id": "810152fd",
   "metadata": {},
   "outputs": [
    {
     "data": {
      "text/plain": [
       "'1.20.1'"
      ]
     },
     "execution_count": 4,
     "metadata": {},
     "output_type": "execute_result"
    }
   ],
   "source": [
    "numpy.__version__"
   ]
  },
  {
   "cell_type": "code",
   "execution_count": 5,
   "id": "227ce467",
   "metadata": {},
   "outputs": [],
   "source": [
    "import numpy as np"
   ]
  },
  {
   "cell_type": "code",
   "execution_count": 6,
   "id": "717e844c",
   "metadata": {},
   "outputs": [
    {
     "data": {
      "text/plain": [
       "'1.20.1'"
      ]
     },
     "execution_count": 6,
     "metadata": {},
     "output_type": "execute_result"
    }
   ],
   "source": [
    "np.__version__"
   ]
  },
  {
   "cell_type": "code",
   "execution_count": null,
   "id": "e4dd4659",
   "metadata": {},
   "outputs": [],
   "source": []
  }
 ],
 "metadata": {
  "kernelspec": {
   "display_name": "Python 3",
   "language": "python",
   "name": "python3"
  },
  "language_info": {
   "codemirror_mode": {
    "name": "ipython",
    "version": 3
   },
   "file_extension": ".py",
   "mimetype": "text/x-python",
   "name": "python",
   "nbconvert_exporter": "python",
   "pygments_lexer": "ipython3",
   "version": "3.8.10"
  }
 },
 "nbformat": 4,
 "nbformat_minor": 5
}

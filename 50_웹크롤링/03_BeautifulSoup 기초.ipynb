{
 "cells": [
  {
   "cell_type": "markdown",
   "id": "7f61439f",
   "metadata": {},
   "source": [
    "# 3. BeautifulSoup 기초\n",
    "* HTML과 XML 문서를 파싱하기 위한 파이썬 패키지\n",
    "* https://www.crummy.com/software/BeautifulSoup/bs4/doc/"
   ]
  },
  {
   "cell_type": "code",
   "execution_count": 1,
   "id": "a48ad267",
   "metadata": {},
   "outputs": [],
   "source": [
    "import requests\n",
    "from bs4 import BeautifulSoup"
   ]
  },
  {
   "cell_type": "code",
   "execution_count": 2,
   "id": "690f4007",
   "metadata": {},
   "outputs": [],
   "source": [
    "# conda install bs4\n",
    "# pip install bs4"
   ]
  },
  {
   "cell_type": "code",
   "execution_count": 3,
   "id": "1e3b4a7e",
   "metadata": {},
   "outputs": [],
   "source": [
    "html_doc = \"\"\"\n",
    "<html>\n",
    "<head>\n",
    "<title>My story</title>\n",
    "</head>\n",
    "<body>\n",
    "<p class=\"title\">My Story</p>\n",
    "<p class=\"story\">내가 좋아하는 음식\n",
    "<a href=\"http://www.pizzahut.co.kr\" class=\"food\" id=\"link1\">피자</a>\n",
    "<a href=\"http://www.kyochon.co.kr\" class=\"food\" id=\"link2\">치킨</a>\n",
    "<a href=\"http://www.momstouch.co.kr\" class=\"food\" id=\"link3\">버거</a>\n",
    "</p>\n",
    "</body>\n",
    "</html>\n",
    "\"\"\""
   ]
  },
  {
   "cell_type": "code",
   "execution_count": 4,
   "id": "0811914f",
   "metadata": {},
   "outputs": [
    {
     "data": {
      "text/plain": [
       "\n",
       "<html>\n",
       "<head>\n",
       "<title>My story</title>\n",
       "</head>\n",
       "<body>\n",
       "<p class=\"title\">My Story</p>\n",
       "<p class=\"story\">내가 좋아하는 음식\n",
       "<a class=\"food\" href=\"http://www.pizzahut.co.kr\" id=\"link1\">피자</a>\n",
       "<a class=\"food\" href=\"http://www.kyochon.co.kr\" id=\"link2\">치킨</a>\n",
       "<a class=\"food\" href=\"http://www.momstouch.co.kr\" id=\"link3\">버거</a>\n",
       "</p>\n",
       "</body>\n",
       "</html>"
      ]
     },
     "execution_count": 4,
     "metadata": {},
     "output_type": "execute_result"
    }
   ],
   "source": [
    "soup = BeautifulSoup(html_doc, 'html.parser')  # lxml, html5lib\n",
    "soup"
   ]
  },
  {
   "cell_type": "code",
   "execution_count": 5,
   "id": "f69f9633",
   "metadata": {},
   "outputs": [
    {
     "data": {
      "text/plain": [
       "bs4.BeautifulSoup"
      ]
     },
     "execution_count": 5,
     "metadata": {},
     "output_type": "execute_result"
    }
   ],
   "source": [
    "type(soup)"
   ]
  },
  {
   "cell_type": "code",
   "execution_count": 6,
   "id": "381bde57",
   "metadata": {},
   "outputs": [
    {
     "name": "stdout",
     "output_type": "stream",
     "text": [
      "<html>\n",
      " <head>\n",
      "  <title>\n",
      "   My story\n",
      "  </title>\n",
      " </head>\n",
      " <body>\n",
      "  <p class=\"title\">\n",
      "   My Story\n",
      "  </p>\n",
      "  <p class=\"story\">\n",
      "   내가 좋아하는 음식\n",
      "   <a class=\"food\" href=\"http://www.pizzahut.co.kr\" id=\"link1\">\n",
      "    피자\n",
      "   </a>\n",
      "   <a class=\"food\" href=\"http://www.kyochon.co.kr\" id=\"link2\">\n",
      "    치킨\n",
      "   </a>\n",
      "   <a class=\"food\" href=\"http://www.momstouch.co.kr\" id=\"link3\">\n",
      "    버거\n",
      "   </a>\n",
      "  </p>\n",
      " </body>\n",
      "</html>\n",
      "\n"
     ]
    }
   ],
   "source": [
    "print(soup.prettify())"
   ]
  },
  {
   "cell_type": "markdown",
   "id": "afeeff12",
   "metadata": {},
   "source": [
    "### find 함수\n",
    "* 조건에 만족하는 첫번째 tag만 검색"
   ]
  },
  {
   "cell_type": "code",
   "execution_count": 7,
   "id": "98a3dbb2",
   "metadata": {},
   "outputs": [
    {
     "data": {
      "text/plain": [
       "<p class=\"title\">My Story</p>"
      ]
     },
     "execution_count": 7,
     "metadata": {},
     "output_type": "execute_result"
    }
   ],
   "source": [
    "soup.find('p')"
   ]
  },
  {
   "cell_type": "code",
   "execution_count": 8,
   "id": "cd26736e",
   "metadata": {},
   "outputs": [
    {
     "data": {
      "text/plain": [
       "<a class=\"food\" href=\"http://www.pizzahut.co.kr\" id=\"link1\">피자</a>"
      ]
     },
     "execution_count": 8,
     "metadata": {},
     "output_type": "execute_result"
    }
   ],
   "source": [
    "soup.find('a')"
   ]
  },
  {
   "cell_type": "code",
   "execution_count": 9,
   "id": "c0b159c2",
   "metadata": {},
   "outputs": [
    {
     "data": {
      "text/plain": [
       "<a class=\"food\" href=\"http://www.kyochon.co.kr\" id=\"link2\">치킨</a>"
      ]
     },
     "execution_count": 9,
     "metadata": {},
     "output_type": "execute_result"
    }
   ],
   "source": [
    "soup.find(id='link2')"
   ]
  },
  {
   "cell_type": "code",
   "execution_count": 10,
   "id": "6f5d1d0c",
   "metadata": {},
   "outputs": [
    {
     "data": {
      "text/plain": [
       "<a class=\"food\" href=\"http://www.momstouch.co.kr\" id=\"link3\">버거</a>"
      ]
     },
     "execution_count": 10,
     "metadata": {},
     "output_type": "execute_result"
    }
   ],
   "source": [
    "soup.find('a', class_='food', id='link3')"
   ]
  },
  {
   "cell_type": "code",
   "execution_count": 11,
   "id": "b605f22f",
   "metadata": {},
   "outputs": [
    {
     "data": {
      "text/plain": [
       "<a class=\"food\" href=\"http://www.momstouch.co.kr\" id=\"link3\">버거</a>"
      ]
     },
     "execution_count": 11,
     "metadata": {},
     "output_type": "execute_result"
    }
   ],
   "source": [
    "attrs = {\n",
    "    'class': 'food',\n",
    "    'id': 'link3'\n",
    "}\n",
    "soup.find('a', attrs=attrs)"
   ]
  },
  {
   "cell_type": "markdown",
   "id": "88537f53",
   "metadata": {},
   "source": [
    "### find_all 함수\n",
    "* 조건에 맞는 모든 tag를 리스트로 반환"
   ]
  },
  {
   "cell_type": "code",
   "execution_count": 12,
   "id": "21918f7d",
   "metadata": {},
   "outputs": [
    {
     "data": {
      "text/plain": [
       "[<p class=\"title\">My Story</p>,\n",
       " <p class=\"story\">내가 좋아하는 음식\n",
       " <a class=\"food\" href=\"http://www.pizzahut.co.kr\" id=\"link1\">피자</a>\n",
       " <a class=\"food\" href=\"http://www.kyochon.co.kr\" id=\"link2\">치킨</a>\n",
       " <a class=\"food\" href=\"http://www.momstouch.co.kr\" id=\"link3\">버거</a>\n",
       " </p>]"
      ]
     },
     "execution_count": 12,
     "metadata": {},
     "output_type": "execute_result"
    }
   ],
   "source": [
    "soup.find_all('p')"
   ]
  },
  {
   "cell_type": "code",
   "execution_count": 13,
   "id": "ff9dc722",
   "metadata": {},
   "outputs": [
    {
     "data": {
      "text/plain": [
       "[<a class=\"food\" href=\"http://www.pizzahut.co.kr\" id=\"link1\">피자</a>,\n",
       " <a class=\"food\" href=\"http://www.kyochon.co.kr\" id=\"link2\">치킨</a>,\n",
       " <a class=\"food\" href=\"http://www.momstouch.co.kr\" id=\"link3\">버거</a>]"
      ]
     },
     "execution_count": 13,
     "metadata": {},
     "output_type": "execute_result"
    }
   ],
   "source": [
    "soup.find_all('a')"
   ]
  },
  {
   "cell_type": "code",
   "execution_count": 14,
   "id": "4f13fff6",
   "metadata": {},
   "outputs": [
    {
     "name": "stdout",
     "output_type": "stream",
     "text": [
      "<a class=\"food\" href=\"http://www.pizzahut.co.kr\" id=\"link1\">피자</a>\n",
      "<a class=\"food\" href=\"http://www.kyochon.co.kr\" id=\"link2\">치킨</a>\n",
      "<a class=\"food\" href=\"http://www.momstouch.co.kr\" id=\"link3\">버거</a>\n"
     ]
    }
   ],
   "source": [
    "for tag in soup.find_all('a'):\n",
    "    print(tag)"
   ]
  },
  {
   "cell_type": "markdown",
   "id": "08d7a1ed",
   "metadata": {},
   "source": [
    "### get_text 함수\n",
    "* tag안의 value를 추출\n",
    "* 부모 tag의 경우 모든 자식 tag의 value 추출"
   ]
  },
  {
   "cell_type": "code",
   "execution_count": 15,
   "id": "53e5f263",
   "metadata": {},
   "outputs": [
    {
     "data": {
      "text/plain": [
       "'\\n\\n\\nMy story\\n\\n\\nMy Story\\n내가 좋아하는 음식\\n피자\\n치킨\\n버거\\n\\n\\n\\n'"
      ]
     },
     "execution_count": 15,
     "metadata": {},
     "output_type": "execute_result"
    }
   ],
   "source": [
    "soup.get_text()"
   ]
  },
  {
   "cell_type": "code",
   "execution_count": 17,
   "id": "55967092",
   "metadata": {},
   "outputs": [
    {
     "data": {
      "text/plain": [
       "'My Story'"
      ]
     },
     "execution_count": 17,
     "metadata": {},
     "output_type": "execute_result"
    }
   ],
   "source": [
    "soup.find('p').get_text()"
   ]
  },
  {
   "cell_type": "code",
   "execution_count": 19,
   "id": "8892b1b4",
   "metadata": {},
   "outputs": [
    {
     "name": "stdout",
     "output_type": "stream",
     "text": [
      "피자\n",
      "치킨\n",
      "버거\n"
     ]
    }
   ],
   "source": [
    "for tag in soup.find_all('a'):\n",
    "    print(tag.get_text())"
   ]
  },
  {
   "cell_type": "markdown",
   "id": "90c7efc0",
   "metadata": {},
   "source": [
    "### attribute값 추출하기\n",
    "* 검색한 tag에서 attributes값을 추출\n",
    "* tag['attr명']"
   ]
  },
  {
   "cell_type": "code",
   "execution_count": 23,
   "id": "22f6cf0d",
   "metadata": {},
   "outputs": [
    {
     "data": {
      "text/plain": [
       "{'class': ['title']}"
      ]
     },
     "execution_count": 23,
     "metadata": {},
     "output_type": "execute_result"
    }
   ],
   "source": [
    "soup.find('p').attrs"
   ]
  },
  {
   "cell_type": "code",
   "execution_count": 24,
   "id": "de73a277",
   "metadata": {},
   "outputs": [
    {
     "data": {
      "text/plain": [
       "['title']"
      ]
     },
     "execution_count": 24,
     "metadata": {},
     "output_type": "execute_result"
    }
   ],
   "source": [
    "soup.find('p')['class']"
   ]
  },
  {
   "cell_type": "code",
   "execution_count": 26,
   "id": "d83e1e89",
   "metadata": {},
   "outputs": [
    {
     "name": "stdout",
     "output_type": "stream",
     "text": [
      "http://www.pizzahut.co.kr link1\n",
      "http://www.kyochon.co.kr link2\n",
      "http://www.momstouch.co.kr link3\n"
     ]
    }
   ],
   "source": [
    "for tag in soup.find_all('a'):\n",
    "    print(tag['href'], tag['id'])"
   ]
  },
  {
   "cell_type": "markdown",
   "id": "8da6738e",
   "metadata": {},
   "source": [
    "### select 함수\n",
    "* select는 CSS Selector로 tag 찾기\n",
    "* 자손 태그 찾기 - tag1 tag2\n",
    "* 직계 자식 태그 찾기 - tag1 > tag2\n",
    "* id 선택자 - #id\n",
    "* class 선택자 - .class\n",
    "* 속성값 찾기 - [name = 'value']\n",
    "    * 속성값 시작문자열 찾기 [name ^= 'value']\n",
    "    * 속성값 종료문자열 찾기 [name $= 'value']\n",
    "    * 속성값 포함문자열 찾기 [name *= 'value']"
   ]
  },
  {
   "cell_type": "code",
   "execution_count": 28,
   "id": "7074f27c",
   "metadata": {},
   "outputs": [
    {
     "data": {
      "text/plain": [
       "<p class=\"title\">My Story</p>"
      ]
     },
     "execution_count": 28,
     "metadata": {},
     "output_type": "execute_result"
    }
   ],
   "source": [
    "soup.find('p')"
   ]
  },
  {
   "cell_type": "code",
   "execution_count": 29,
   "id": "187cbfd1",
   "metadata": {},
   "outputs": [
    {
     "data": {
      "text/plain": [
       "[<p class=\"title\">My Story</p>,\n",
       " <p class=\"story\">내가 좋아하는 음식\n",
       " <a class=\"food\" href=\"http://www.pizzahut.co.kr\" id=\"link1\">피자</a>\n",
       " <a class=\"food\" href=\"http://www.kyochon.co.kr\" id=\"link2\">치킨</a>\n",
       " <a class=\"food\" href=\"http://www.momstouch.co.kr\" id=\"link3\">버거</a>\n",
       " </p>]"
      ]
     },
     "execution_count": 29,
     "metadata": {},
     "output_type": "execute_result"
    }
   ],
   "source": [
    "soup.select('p')"
   ]
  },
  {
   "cell_type": "code",
   "execution_count": 30,
   "id": "bc5b7291",
   "metadata": {},
   "outputs": [
    {
     "data": {
      "text/plain": [
       "<p class=\"title\">My Story</p>"
      ]
     },
     "execution_count": 30,
     "metadata": {},
     "output_type": "execute_result"
    }
   ],
   "source": [
    "soup.select_one('p')"
   ]
  },
  {
   "cell_type": "code",
   "execution_count": 31,
   "id": "c39b2b4c",
   "metadata": {},
   "outputs": [
    {
     "data": {
      "text/plain": [
       "[<title>My story</title>]"
      ]
     },
     "execution_count": 31,
     "metadata": {},
     "output_type": "execute_result"
    }
   ],
   "source": [
    "# 자손 태그\n",
    "soup.select('html title')"
   ]
  },
  {
   "cell_type": "code",
   "execution_count": 32,
   "id": "e4e7c19f",
   "metadata": {},
   "outputs": [
    {
     "data": {
      "text/plain": [
       "[]"
      ]
     },
     "execution_count": 32,
     "metadata": {},
     "output_type": "execute_result"
    }
   ],
   "source": [
    "# 직계 자식 태그\n",
    "soup.select('html > title')"
   ]
  },
  {
   "cell_type": "code",
   "execution_count": 33,
   "id": "b16fc654",
   "metadata": {},
   "outputs": [
    {
     "data": {
      "text/plain": [
       "[<a class=\"food\" href=\"http://www.pizzahut.co.kr\" id=\"link1\">피자</a>]"
      ]
     },
     "execution_count": 33,
     "metadata": {},
     "output_type": "execute_result"
    }
   ],
   "source": [
    "# id 선택자\n",
    "soup.select('#link1')"
   ]
  },
  {
   "cell_type": "code",
   "execution_count": 36,
   "id": "62e3a625",
   "metadata": {},
   "outputs": [
    {
     "data": {
      "text/plain": [
       "[<a class=\"food\" href=\"http://www.pizzahut.co.kr\" id=\"link1\">피자</a>,\n",
       " <a class=\"food\" href=\"http://www.kyochon.co.kr\" id=\"link2\">치킨</a>,\n",
       " <a class=\"food\" href=\"http://www.momstouch.co.kr\" id=\"link3\">버거</a>]"
      ]
     },
     "execution_count": 36,
     "metadata": {},
     "output_type": "execute_result"
    }
   ],
   "source": [
    "# class 선택자\n",
    "soup.select('.food')"
   ]
  },
  {
   "cell_type": "code",
   "execution_count": 37,
   "id": "e6eca6ba",
   "metadata": {},
   "outputs": [
    {
     "data": {
      "text/plain": [
       "[<a class=\"food\" href=\"http://www.pizzahut.co.kr\" id=\"link1\">피자</a>]"
      ]
     },
     "execution_count": 37,
     "metadata": {},
     "output_type": "execute_result"
    }
   ],
   "source": [
    "# 속성값 찾기\n",
    "soup.select('[href=\"http://www.pizzahut.co.kr\"]')"
   ]
  },
  {
   "cell_type": "code",
   "execution_count": 38,
   "id": "9a472647",
   "metadata": {},
   "outputs": [
    {
     "data": {
      "text/plain": [
       "[<a class=\"food\" href=\"http://www.pizzahut.co.kr\" id=\"link1\">피자</a>,\n",
       " <a class=\"food\" href=\"http://www.kyochon.co.kr\" id=\"link2\">치킨</a>,\n",
       " <a class=\"food\" href=\"http://www.momstouch.co.kr\" id=\"link3\">버거</a>]"
      ]
     },
     "execution_count": 38,
     "metadata": {},
     "output_type": "execute_result"
    }
   ],
   "source": [
    "# 시작문자열\n",
    "soup.select('[href^=\"http\"]')"
   ]
  },
  {
   "cell_type": "code",
   "execution_count": 39,
   "id": "925b733c",
   "metadata": {},
   "outputs": [
    {
     "data": {
      "text/plain": [
       "[<a class=\"food\" href=\"http://www.pizzahut.co.kr\" id=\"link1\">피자</a>,\n",
       " <a class=\"food\" href=\"http://www.kyochon.co.kr\" id=\"link2\">치킨</a>,\n",
       " <a class=\"food\" href=\"http://www.momstouch.co.kr\" id=\"link3\">버거</a>]"
      ]
     },
     "execution_count": 39,
     "metadata": {},
     "output_type": "execute_result"
    }
   ],
   "source": [
    "# 종료문자열\n",
    "soup.select('[href$=\"kr\"]')"
   ]
  },
  {
   "cell_type": "code",
   "execution_count": 40,
   "id": "27fe7ae7",
   "metadata": {},
   "outputs": [
    {
     "data": {
      "text/plain": [
       "[<a class=\"food\" href=\"http://www.kyochon.co.kr\" id=\"link2\">치킨</a>,\n",
       " <a class=\"food\" href=\"http://www.momstouch.co.kr\" id=\"link3\">버거</a>]"
      ]
     },
     "execution_count": 40,
     "metadata": {},
     "output_type": "execute_result"
    }
   ],
   "source": [
    "# 포함문자열\n",
    "soup.select('[href*=\"ch\"]')"
   ]
  },
  {
   "cell_type": "code",
   "execution_count": null,
   "id": "92dd6970",
   "metadata": {},
   "outputs": [],
   "source": []
  }
 ],
 "metadata": {
  "kernelspec": {
   "display_name": "Python 3 (ipykernel)",
   "language": "python",
   "name": "python3"
  },
  "language_info": {
   "codemirror_mode": {
    "name": "ipython",
    "version": 3
   },
   "file_extension": ".py",
   "mimetype": "text/x-python",
   "name": "python",
   "nbconvert_exporter": "python",
   "pygments_lexer": "ipython3",
   "version": "3.9.6"
  }
 },
 "nbformat": 4,
 "nbformat_minor": 5
}
